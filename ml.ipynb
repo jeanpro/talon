{
 "metadata": {
  "language_info": {
   "codemirror_mode": {
    "name": "ipython",
    "version": 3
   },
   "file_extension": ".py",
   "mimetype": "text/x-python",
   "name": "python",
   "nbconvert_exporter": "python",
   "pygments_lexer": "ipython3",
   "version": "3.8.3-final"
  },
  "orig_nbformat": 2,
  "kernelspec": {
   "name": "python3",
   "display_name": "Python 3.8.3 64-bit ('talon': conda)",
   "metadata": {
    "interpreter": {
     "hash": "a8f2707d2d1dbb352651db5db52548047d7e03ccd08521e90e4bcec76f4b76a0"
    }
   }
  }
 },
 "nbformat": 4,
 "nbformat_minor": 2,
 "cells": [
  {
   "cell_type": "code",
   "execution_count": 1,
   "metadata": {},
   "outputs": [],
   "source": [
    "## Autoreloading libraries https://ipython.readthedocs.io/en/stable/config/extensions/autoreload.html\n",
    "%load_ext autoreload\n",
    "%autoreload 2\n",
    "\n",
    "from IPython.core.display import display\n",
    "from IPython.core.display import HTML\n",
    "import pandas as pd\n",
    "\n",
    "\n",
    "from talon.signature import EXTRACTOR_FILENAME, EXTRACTOR_DATA\n",
    "from talon.signature.learning.classifier import train, init\n",
    "import talon.signature.learning.helpers as helpers\n",
    "import talon.quotations as tq\n",
    "\n",
    "from talon.quotations import register_xpath_extensions\n",
    "\n",
    "import talon.utils as utils\n",
    "\n",
    "register_xpath_extensions()\n",
    "pd.set_option('display.max_columns', None)"
   ]
  },
  {
   "cell_type": "code",
   "execution_count": 2,
   "metadata": {},
   "outputs": [
    {
     "output_type": "execute_result",
     "data": {
      "text/plain": [
       "   index                  id           parent_id activity_id  \\\n",
       "0      1  02s2o00003EtrRrAAJ  5002o00002Wqif5AAB        None   \n",
       "1      3  02s2o00003Eub4MAAR  5002o00002Wqs59AAB        None   \n",
       "2      5  02s2o00003EujnIAAR  5002o00002WqwrPAAR        None   \n",
       "3      7  02s2o00003EurtyAAB  5002o00002WqSt1AAF        None   \n",
       "4     11  02s2o00003EvCHIAA3  5002o00002WCTHeAAP        None   \n",
       "\n",
       "        created_by_id                  created_date  last_modified_date  \\\n",
       "0  005D00000041R4YIAU  2020-09-07T00:45:08.000+0000 2020-09-07 00:45:08   \n",
       "1  005D00000041R4YIAU  2020-09-07T06:00:01.000+0000 2020-09-07 06:00:01   \n",
       "2  005D00000041R4YIAU  2020-09-07T07:22:52.000+0000 2020-09-07 07:22:52   \n",
       "3  005D00000041R4YIAU  2020-09-07T08:38:40.000+0000 2020-09-07 09:55:00   \n",
       "4  005D00000041R4YIAU  2020-09-07T12:40:39.000+0000 2020-09-07 20:14:01   \n",
       "\n",
       "  last_modified_by_id     system_modstamp  \\\n",
       "0  005D00000041R4YIAU 2020-09-07 02:36:14   \n",
       "1  005D00000041R4YIAU 2020-09-07 06:37:25   \n",
       "2  005D00000041R4YIAU 2020-09-07 07:39:30   \n",
       "3  00557000007smniAAA 2020-09-07 09:56:05   \n",
       "4  0052o000009bcD0AAI 2020-09-07 20:14:43   \n",
       "\n",
       "                                           text_body  \\\n",
       "0  Dear\\n204651349  箱量请改为2X40HQ，谢谢！\\n\\n\\n\\nBest R...   \n",
       "1     亿通显示订舱号错误204647537\\n\\n\\n\\nHarry_HaoYue@163.com   \n",
       "2  DEAR ALL\\n\\n\\n204632591\\n204632387\\n\\n\\n\\n\\n\\n...   \n",
       "3  Dear Claudia,\\n\\nOK.\\nSince my & my supplier (...   \n",
       "4  Hi Maersk Twill Team\\n\\nPLease reply as soon a...   \n",
       "\n",
       "                                           html_body  \\\n",
       "0  <html><head><meta http-equiv=\"content-type\" co...   \n",
       "1  <html><head><meta http-equiv=\"content-type\" co...   \n",
       "2  <html>\\n<head>\\n    <meta http-equiv=\"Content-...   \n",
       "3  <html>\\n  <head>\\n    <meta http-equiv=\"Conten...   \n",
       "4  <div dir=\"ltr\">Hi Maersk Twill Team<div><br></...   \n",
       "\n",
       "                                             headers  \\\n",
       "0                                               None   \n",
       "1                                               None   \n",
       "2                                               None   \n",
       "3  In-Reply-To: <Ih5mR000000000000000000000000000...   \n",
       "4  In-Reply-To: <5hYXu000000000000000000000000000...   \n",
       "\n",
       "                                             subject             from_name  \\\n",
       "0                                          204651349            grace.shao   \n",
       "1                                 亿通显示订舱号错误204647537  Harry_HaoYue@163.com   \n",
       "2                                  ningbo-lome  签单付款        ZHENGTIAN-LILY   \n",
       "3  Re: No able to book, error [ ref:_00DD0n6xF._5...        Drago Lackovic   \n",
       "4  Re: 204601228 - JEBEL ALI TO EGYPT [ ref:_00DD...         Mansoor Byari   \n",
       "\n",
       "                from_address     validated_from_address  \\\n",
       "0   grace.shao@uniwill56.com   grace.shao@uniwill56.com   \n",
       "1       harry_haoyue@163.com       harry_haoyue@163.com   \n",
       "2  zhejiangzhengtian@163.com  zhejiangzhengtian@163.com   \n",
       "3          drago@lackovic.hr          drago@lackovic.hr   \n",
       "4    grm@nejoumaljazeera.com    grm@nejoumaljazeera.com   \n",
       "\n",
       "                to_address                                         cc_address  \\\n",
       "0  twillsupport@maersk.com                                               None   \n",
       "1  twillsupport@maersk.com                                               None   \n",
       "2  twillsupport@maersk.com             stella.ge@twill.net; 2126347372@qq.com   \n",
       "3  twillsupport@maersk.com                                               None   \n",
       "4  twillsupport@maersk.com  vikramjeet.karangale@maersk.com; booking@nejou...   \n",
       "\n",
       "  bcc_address  incoming has_attachment status        message_date is_deleted  \\\n",
       "0        None      True           None      2 2020-09-07 00:43:38       None   \n",
       "1        None      True           None      2 2020-09-07 05:59:49       None   \n",
       "2        None      True           None      2 2020-09-07 07:22:40       None   \n",
       "3        None      True           None      2 2020-09-07 08:38:29       None   \n",
       "4        None      True           None      2 2020-09-07 12:40:23       None   \n",
       "\n",
       "  reply_to_email_message_id is_externally_visible  \n",
       "0                      None                  None  \n",
       "1                      None                  None  \n",
       "2                      None                  None  \n",
       "3                      None                  None  \n",
       "4                      None                  None  "
      ],
      "text/html": "<div>\n<style scoped>\n    .dataframe tbody tr th:only-of-type {\n        vertical-align: middle;\n    }\n\n    .dataframe tbody tr th {\n        vertical-align: top;\n    }\n\n    .dataframe thead th {\n        text-align: right;\n    }\n</style>\n<table border=\"1\" class=\"dataframe\">\n  <thead>\n    <tr style=\"text-align: right;\">\n      <th></th>\n      <th>index</th>\n      <th>id</th>\n      <th>parent_id</th>\n      <th>activity_id</th>\n      <th>created_by_id</th>\n      <th>created_date</th>\n      <th>last_modified_date</th>\n      <th>last_modified_by_id</th>\n      <th>system_modstamp</th>\n      <th>text_body</th>\n      <th>html_body</th>\n      <th>headers</th>\n      <th>subject</th>\n      <th>from_name</th>\n      <th>from_address</th>\n      <th>validated_from_address</th>\n      <th>to_address</th>\n      <th>cc_address</th>\n      <th>bcc_address</th>\n      <th>incoming</th>\n      <th>has_attachment</th>\n      <th>status</th>\n      <th>message_date</th>\n      <th>is_deleted</th>\n      <th>reply_to_email_message_id</th>\n      <th>is_externally_visible</th>\n    </tr>\n  </thead>\n  <tbody>\n    <tr>\n      <th>0</th>\n      <td>1</td>\n      <td>02s2o00003EtrRrAAJ</td>\n      <td>5002o00002Wqif5AAB</td>\n      <td>None</td>\n      <td>005D00000041R4YIAU</td>\n      <td>2020-09-07T00:45:08.000+0000</td>\n      <td>2020-09-07 00:45:08</td>\n      <td>005D00000041R4YIAU</td>\n      <td>2020-09-07 02:36:14</td>\n      <td>Dear\\n204651349  箱量请改为2X40HQ，谢谢！\\n\\n\\n\\nBest R...</td>\n      <td>&lt;html&gt;&lt;head&gt;&lt;meta http-equiv=\"content-type\" co...</td>\n      <td>None</td>\n      <td>204651349</td>\n      <td>grace.shao</td>\n      <td>grace.shao@uniwill56.com</td>\n      <td>grace.shao@uniwill56.com</td>\n      <td>twillsupport@maersk.com</td>\n      <td>None</td>\n      <td>None</td>\n      <td>True</td>\n      <td>None</td>\n      <td>2</td>\n      <td>2020-09-07 00:43:38</td>\n      <td>None</td>\n      <td>None</td>\n      <td>None</td>\n    </tr>\n    <tr>\n      <th>1</th>\n      <td>3</td>\n      <td>02s2o00003Eub4MAAR</td>\n      <td>5002o00002Wqs59AAB</td>\n      <td>None</td>\n      <td>005D00000041R4YIAU</td>\n      <td>2020-09-07T06:00:01.000+0000</td>\n      <td>2020-09-07 06:00:01</td>\n      <td>005D00000041R4YIAU</td>\n      <td>2020-09-07 06:37:25</td>\n      <td>亿通显示订舱号错误204647537\\n\\n\\n\\nHarry_HaoYue@163.com</td>\n      <td>&lt;html&gt;&lt;head&gt;&lt;meta http-equiv=\"content-type\" co...</td>\n      <td>None</td>\n      <td>亿通显示订舱号错误204647537</td>\n      <td>Harry_HaoYue@163.com</td>\n      <td>harry_haoyue@163.com</td>\n      <td>harry_haoyue@163.com</td>\n      <td>twillsupport@maersk.com</td>\n      <td>None</td>\n      <td>None</td>\n      <td>True</td>\n      <td>None</td>\n      <td>2</td>\n      <td>2020-09-07 05:59:49</td>\n      <td>None</td>\n      <td>None</td>\n      <td>None</td>\n    </tr>\n    <tr>\n      <th>2</th>\n      <td>5</td>\n      <td>02s2o00003EujnIAAR</td>\n      <td>5002o00002WqwrPAAR</td>\n      <td>None</td>\n      <td>005D00000041R4YIAU</td>\n      <td>2020-09-07T07:22:52.000+0000</td>\n      <td>2020-09-07 07:22:52</td>\n      <td>005D00000041R4YIAU</td>\n      <td>2020-09-07 07:39:30</td>\n      <td>DEAR ALL\\n\\n\\n204632591\\n204632387\\n\\n\\n\\n\\n\\n...</td>\n      <td>&lt;html&gt;\\n&lt;head&gt;\\n    &lt;meta http-equiv=\"Content-...</td>\n      <td>None</td>\n      <td>ningbo-lome  签单付款</td>\n      <td>ZHENGTIAN-LILY</td>\n      <td>zhejiangzhengtian@163.com</td>\n      <td>zhejiangzhengtian@163.com</td>\n      <td>twillsupport@maersk.com</td>\n      <td>stella.ge@twill.net; 2126347372@qq.com</td>\n      <td>None</td>\n      <td>True</td>\n      <td>None</td>\n      <td>2</td>\n      <td>2020-09-07 07:22:40</td>\n      <td>None</td>\n      <td>None</td>\n      <td>None</td>\n    </tr>\n    <tr>\n      <th>3</th>\n      <td>7</td>\n      <td>02s2o00003EurtyAAB</td>\n      <td>5002o00002WqSt1AAF</td>\n      <td>None</td>\n      <td>005D00000041R4YIAU</td>\n      <td>2020-09-07T08:38:40.000+0000</td>\n      <td>2020-09-07 09:55:00</td>\n      <td>00557000007smniAAA</td>\n      <td>2020-09-07 09:56:05</td>\n      <td>Dear Claudia,\\n\\nOK.\\nSince my &amp; my supplier (...</td>\n      <td>&lt;html&gt;\\n  &lt;head&gt;\\n    &lt;meta http-equiv=\"Conten...</td>\n      <td>In-Reply-To: &lt;Ih5mR000000000000000000000000000...</td>\n      <td>Re: No able to book, error [ ref:_00DD0n6xF._5...</td>\n      <td>Drago Lackovic</td>\n      <td>drago@lackovic.hr</td>\n      <td>drago@lackovic.hr</td>\n      <td>twillsupport@maersk.com</td>\n      <td>None</td>\n      <td>None</td>\n      <td>True</td>\n      <td>None</td>\n      <td>2</td>\n      <td>2020-09-07 08:38:29</td>\n      <td>None</td>\n      <td>None</td>\n      <td>None</td>\n    </tr>\n    <tr>\n      <th>4</th>\n      <td>11</td>\n      <td>02s2o00003EvCHIAA3</td>\n      <td>5002o00002WCTHeAAP</td>\n      <td>None</td>\n      <td>005D00000041R4YIAU</td>\n      <td>2020-09-07T12:40:39.000+0000</td>\n      <td>2020-09-07 20:14:01</td>\n      <td>0052o000009bcD0AAI</td>\n      <td>2020-09-07 20:14:43</td>\n      <td>Hi Maersk Twill Team\\n\\nPLease reply as soon a...</td>\n      <td>&lt;div dir=\"ltr\"&gt;Hi Maersk Twill Team&lt;div&gt;&lt;br&gt;&lt;/...</td>\n      <td>In-Reply-To: &lt;5hYXu000000000000000000000000000...</td>\n      <td>Re: 204601228 - JEBEL ALI TO EGYPT [ ref:_00DD...</td>\n      <td>Mansoor Byari</td>\n      <td>grm@nejoumaljazeera.com</td>\n      <td>grm@nejoumaljazeera.com</td>\n      <td>twillsupport@maersk.com</td>\n      <td>vikramjeet.karangale@maersk.com; booking@nejou...</td>\n      <td>None</td>\n      <td>True</td>\n      <td>None</td>\n      <td>2</td>\n      <td>2020-09-07 12:40:23</td>\n      <td>None</td>\n      <td>None</td>\n      <td>None</td>\n    </tr>\n  </tbody>\n</table>\n</div>"
     },
     "metadata": {},
     "execution_count": 2
    }
   ],
   "source": [
    "data = pd.read_parquet('./data/part-00001.snappy.parquet')\n",
    "data = data[data['status'] == '2']\n",
    "data = data.reset_index()\n",
    "#data = data[4:5]\n",
    "data.head()"
   ]
  },
  {
   "source": [
    "## Looking into the data\n",
    "\n",
    "Looking into the dataset and understanding the "
   ],
   "cell_type": "markdown",
   "metadata": {}
  },
  {
   "cell_type": "code",
   "execution_count": 84,
   "metadata": {},
   "outputs": [
    {
     "output_type": "execute_result",
     "data": {
      "text/plain": [
       "   index                  id           parent_id activity_id  \\\n",
       "0      1  02s2o00003EtrRrAAJ  5002o00002Wqif5AAB        None   \n",
       "1      3  02s2o00003Eub4MAAR  5002o00002Wqs59AAB        None   \n",
       "2      5  02s2o00003EujnIAAR  5002o00002WqwrPAAR        None   \n",
       "3      7  02s2o00003EurtyAAB  5002o00002WqSt1AAF        None   \n",
       "4     11  02s2o00003EvCHIAA3  5002o00002WCTHeAAP        None   \n",
       "\n",
       "        created_by_id                  created_date  last_modified_date  \\\n",
       "0  005D00000041R4YIAU  2020-09-07T00:45:08.000+0000 2020-09-07 00:45:08   \n",
       "1  005D00000041R4YIAU  2020-09-07T06:00:01.000+0000 2020-09-07 06:00:01   \n",
       "2  005D00000041R4YIAU  2020-09-07T07:22:52.000+0000 2020-09-07 07:22:52   \n",
       "3  005D00000041R4YIAU  2020-09-07T08:38:40.000+0000 2020-09-07 09:55:00   \n",
       "4  005D00000041R4YIAU  2020-09-07T12:40:39.000+0000 2020-09-07 20:14:01   \n",
       "\n",
       "  last_modified_by_id     system_modstamp  \\\n",
       "0  005D00000041R4YIAU 2020-09-07 02:36:14   \n",
       "1  005D00000041R4YIAU 2020-09-07 06:37:25   \n",
       "2  005D00000041R4YIAU 2020-09-07 07:39:30   \n",
       "3  00557000007smniAAA 2020-09-07 09:56:05   \n",
       "4  0052o000009bcD0AAI 2020-09-07 20:14:43   \n",
       "\n",
       "                                           text_body  \\\n",
       "0  Dear\\n204651349  箱量请改为2X40HQ，谢谢！\\n\\n\\n\\nBest R...   \n",
       "1     亿通显示订舱号错误204647537\\n\\n\\n\\nHarry_HaoYue@163.com   \n",
       "2  DEAR ALL\\n\\n\\n204632591\\n204632387\\n\\n\\n\\n\\n\\n...   \n",
       "3  Dear Claudia,\\n\\nOK.\\nSince my & my supplier (...   \n",
       "4  Hi Maersk Twill Team\\n\\nPLease reply as soon a...   \n",
       "\n",
       "                                           html_body  \\\n",
       "0  <html><head><meta http-equiv=\"content-type\" co...   \n",
       "1  <html><head><meta http-equiv=\"content-type\" co...   \n",
       "2  <html>\\n<head>\\n    <meta http-equiv=\"Content-...   \n",
       "3  <html>\\n  <head>\\n    <meta http-equiv=\"Conten...   \n",
       "4  <div dir=\"ltr\">Hi Maersk Twill Team<div><br></...   \n",
       "\n",
       "                                             headers  \\\n",
       "0                                               None   \n",
       "1                                               None   \n",
       "2                                               None   \n",
       "3  In-Reply-To: <Ih5mR000000000000000000000000000...   \n",
       "4  In-Reply-To: <5hYXu000000000000000000000000000...   \n",
       "\n",
       "                                             subject             from_name  \\\n",
       "0                                          204651349            grace.shao   \n",
       "1                                 亿通显示订舱号错误204647537  Harry_HaoYue@163.com   \n",
       "2                                  ningbo-lome  签单付款        ZHENGTIAN-LILY   \n",
       "3  Re: No able to book, error [ ref:_00DD0n6xF._5...        Drago Lackovic   \n",
       "4  Re: 204601228 - JEBEL ALI TO EGYPT [ ref:_00DD...         Mansoor Byari   \n",
       "\n",
       "                from_address     validated_from_address  \\\n",
       "0   grace.shao@uniwill56.com   grace.shao@uniwill56.com   \n",
       "1       harry_haoyue@163.com       harry_haoyue@163.com   \n",
       "2  zhejiangzhengtian@163.com  zhejiangzhengtian@163.com   \n",
       "3          drago@lackovic.hr          drago@lackovic.hr   \n",
       "4    grm@nejoumaljazeera.com    grm@nejoumaljazeera.com   \n",
       "\n",
       "                to_address                                         cc_address  \\\n",
       "0  twillsupport@maersk.com                                               None   \n",
       "1  twillsupport@maersk.com                                               None   \n",
       "2  twillsupport@maersk.com             stella.ge@twill.net; 2126347372@qq.com   \n",
       "3  twillsupport@maersk.com                                               None   \n",
       "4  twillsupport@maersk.com  vikramjeet.karangale@maersk.com; booking@nejou...   \n",
       "\n",
       "  bcc_address  incoming has_attachment status        message_date is_deleted  \\\n",
       "0        None      True           None      2 2020-09-07 00:43:38       None   \n",
       "1        None      True           None      2 2020-09-07 05:59:49       None   \n",
       "2        None      True           None      2 2020-09-07 07:22:40       None   \n",
       "3        None      True           None      2 2020-09-07 08:38:29       None   \n",
       "4        None      True           None      2 2020-09-07 12:40:23       None   \n",
       "\n",
       "  reply_to_email_message_id is_externally_visible  \\\n",
       "0                      None                  None   \n",
       "1                      None                  None   \n",
       "2                      None                  None   \n",
       "3                      None                  None   \n",
       "4                      None                  None   \n",
       "\n",
       "                             html_body_quote_removed  \\\n",
       "0  <html><head><meta http-equiv=\"content-type\" co...   \n",
       "1  <html><head><meta http-equiv=\"content-type\" co...   \n",
       "2  <html>\\n<head>\\n    <meta http-equiv=\"Content-...   \n",
       "3  <html><head>\\n    \\n  </head>\\n  <body>\\n    <...   \n",
       "4  <div dir=\"ltr\">Hi Maersk Twill Team<div><br></...   \n",
       "\n",
       "                             text_body_quote_removed  \n",
       "0  Dear\\n204651349  箱量请改为2X40HQ，谢谢！\\n\\n\\n\\nBest R...  \n",
       "1     亿通显示订舱号错误204647537\\n\\n\\n\\nHarry_HaoYue@163.com  \n",
       "2  DEAR ALL\\n\\n\\n204632591\\n204632387\\n\\n\\n\\n\\n\\n...  \n",
       "3  Dear Claudia,\\n\\nOK.\\nSince my & my supplier (...  \n",
       "4  Hi Maersk Twill Team\\n\\nPLease reply as soon a...  "
      ],
      "text/html": "<div>\n<style scoped>\n    .dataframe tbody tr th:only-of-type {\n        vertical-align: middle;\n    }\n\n    .dataframe tbody tr th {\n        vertical-align: top;\n    }\n\n    .dataframe thead th {\n        text-align: right;\n    }\n</style>\n<table border=\"1\" class=\"dataframe\">\n  <thead>\n    <tr style=\"text-align: right;\">\n      <th></th>\n      <th>index</th>\n      <th>id</th>\n      <th>parent_id</th>\n      <th>activity_id</th>\n      <th>created_by_id</th>\n      <th>created_date</th>\n      <th>last_modified_date</th>\n      <th>last_modified_by_id</th>\n      <th>system_modstamp</th>\n      <th>text_body</th>\n      <th>html_body</th>\n      <th>headers</th>\n      <th>subject</th>\n      <th>from_name</th>\n      <th>from_address</th>\n      <th>validated_from_address</th>\n      <th>to_address</th>\n      <th>cc_address</th>\n      <th>bcc_address</th>\n      <th>incoming</th>\n      <th>has_attachment</th>\n      <th>status</th>\n      <th>message_date</th>\n      <th>is_deleted</th>\n      <th>reply_to_email_message_id</th>\n      <th>is_externally_visible</th>\n      <th>html_body_quote_removed</th>\n      <th>text_body_quote_removed</th>\n    </tr>\n  </thead>\n  <tbody>\n    <tr>\n      <th>0</th>\n      <td>1</td>\n      <td>02s2o00003EtrRrAAJ</td>\n      <td>5002o00002Wqif5AAB</td>\n      <td>None</td>\n      <td>005D00000041R4YIAU</td>\n      <td>2020-09-07T00:45:08.000+0000</td>\n      <td>2020-09-07 00:45:08</td>\n      <td>005D00000041R4YIAU</td>\n      <td>2020-09-07 02:36:14</td>\n      <td>Dear\\n204651349  箱量请改为2X40HQ，谢谢！\\n\\n\\n\\nBest R...</td>\n      <td>&lt;html&gt;&lt;head&gt;&lt;meta http-equiv=\"content-type\" co...</td>\n      <td>None</td>\n      <td>204651349</td>\n      <td>grace.shao</td>\n      <td>grace.shao@uniwill56.com</td>\n      <td>grace.shao@uniwill56.com</td>\n      <td>twillsupport@maersk.com</td>\n      <td>None</td>\n      <td>None</td>\n      <td>True</td>\n      <td>None</td>\n      <td>2</td>\n      <td>2020-09-07 00:43:38</td>\n      <td>None</td>\n      <td>None</td>\n      <td>None</td>\n      <td>&lt;html&gt;&lt;head&gt;&lt;meta http-equiv=\"content-type\" co...</td>\n      <td>Dear\\n204651349  箱量请改为2X40HQ，谢谢！\\n\\n\\n\\nBest R...</td>\n    </tr>\n    <tr>\n      <th>1</th>\n      <td>3</td>\n      <td>02s2o00003Eub4MAAR</td>\n      <td>5002o00002Wqs59AAB</td>\n      <td>None</td>\n      <td>005D00000041R4YIAU</td>\n      <td>2020-09-07T06:00:01.000+0000</td>\n      <td>2020-09-07 06:00:01</td>\n      <td>005D00000041R4YIAU</td>\n      <td>2020-09-07 06:37:25</td>\n      <td>亿通显示订舱号错误204647537\\n\\n\\n\\nHarry_HaoYue@163.com</td>\n      <td>&lt;html&gt;&lt;head&gt;&lt;meta http-equiv=\"content-type\" co...</td>\n      <td>None</td>\n      <td>亿通显示订舱号错误204647537</td>\n      <td>Harry_HaoYue@163.com</td>\n      <td>harry_haoyue@163.com</td>\n      <td>harry_haoyue@163.com</td>\n      <td>twillsupport@maersk.com</td>\n      <td>None</td>\n      <td>None</td>\n      <td>True</td>\n      <td>None</td>\n      <td>2</td>\n      <td>2020-09-07 05:59:49</td>\n      <td>None</td>\n      <td>None</td>\n      <td>None</td>\n      <td>&lt;html&gt;&lt;head&gt;&lt;meta http-equiv=\"content-type\" co...</td>\n      <td>亿通显示订舱号错误204647537\\n\\n\\n\\nHarry_HaoYue@163.com</td>\n    </tr>\n    <tr>\n      <th>2</th>\n      <td>5</td>\n      <td>02s2o00003EujnIAAR</td>\n      <td>5002o00002WqwrPAAR</td>\n      <td>None</td>\n      <td>005D00000041R4YIAU</td>\n      <td>2020-09-07T07:22:52.000+0000</td>\n      <td>2020-09-07 07:22:52</td>\n      <td>005D00000041R4YIAU</td>\n      <td>2020-09-07 07:39:30</td>\n      <td>DEAR ALL\\n\\n\\n204632591\\n204632387\\n\\n\\n\\n\\n\\n...</td>\n      <td>&lt;html&gt;\\n&lt;head&gt;\\n    &lt;meta http-equiv=\"Content-...</td>\n      <td>None</td>\n      <td>ningbo-lome  签单付款</td>\n      <td>ZHENGTIAN-LILY</td>\n      <td>zhejiangzhengtian@163.com</td>\n      <td>zhejiangzhengtian@163.com</td>\n      <td>twillsupport@maersk.com</td>\n      <td>stella.ge@twill.net; 2126347372@qq.com</td>\n      <td>None</td>\n      <td>True</td>\n      <td>None</td>\n      <td>2</td>\n      <td>2020-09-07 07:22:40</td>\n      <td>None</td>\n      <td>None</td>\n      <td>None</td>\n      <td>&lt;html&gt;\\n&lt;head&gt;\\n    &lt;meta http-equiv=\"Content-...</td>\n      <td>DEAR ALL\\n\\n\\n204632591\\n204632387\\n\\n\\n\\n\\n\\n...</td>\n    </tr>\n    <tr>\n      <th>3</th>\n      <td>7</td>\n      <td>02s2o00003EurtyAAB</td>\n      <td>5002o00002WqSt1AAF</td>\n      <td>None</td>\n      <td>005D00000041R4YIAU</td>\n      <td>2020-09-07T08:38:40.000+0000</td>\n      <td>2020-09-07 09:55:00</td>\n      <td>00557000007smniAAA</td>\n      <td>2020-09-07 09:56:05</td>\n      <td>Dear Claudia,\\n\\nOK.\\nSince my &amp; my supplier (...</td>\n      <td>&lt;html&gt;\\n  &lt;head&gt;\\n    &lt;meta http-equiv=\"Conten...</td>\n      <td>In-Reply-To: &lt;Ih5mR000000000000000000000000000...</td>\n      <td>Re: No able to book, error [ ref:_00DD0n6xF._5...</td>\n      <td>Drago Lackovic</td>\n      <td>drago@lackovic.hr</td>\n      <td>drago@lackovic.hr</td>\n      <td>twillsupport@maersk.com</td>\n      <td>None</td>\n      <td>None</td>\n      <td>True</td>\n      <td>None</td>\n      <td>2</td>\n      <td>2020-09-07 08:38:29</td>\n      <td>None</td>\n      <td>None</td>\n      <td>None</td>\n      <td>&lt;html&gt;&lt;head&gt;\\n    \\n  &lt;/head&gt;\\n  &lt;body&gt;\\n    &lt;...</td>\n      <td>Dear Claudia,\\n\\nOK.\\nSince my &amp; my supplier (...</td>\n    </tr>\n    <tr>\n      <th>4</th>\n      <td>11</td>\n      <td>02s2o00003EvCHIAA3</td>\n      <td>5002o00002WCTHeAAP</td>\n      <td>None</td>\n      <td>005D00000041R4YIAU</td>\n      <td>2020-09-07T12:40:39.000+0000</td>\n      <td>2020-09-07 20:14:01</td>\n      <td>0052o000009bcD0AAI</td>\n      <td>2020-09-07 20:14:43</td>\n      <td>Hi Maersk Twill Team\\n\\nPLease reply as soon a...</td>\n      <td>&lt;div dir=\"ltr\"&gt;Hi Maersk Twill Team&lt;div&gt;&lt;br&gt;&lt;/...</td>\n      <td>In-Reply-To: &lt;5hYXu000000000000000000000000000...</td>\n      <td>Re: 204601228 - JEBEL ALI TO EGYPT [ ref:_00DD...</td>\n      <td>Mansoor Byari</td>\n      <td>grm@nejoumaljazeera.com</td>\n      <td>grm@nejoumaljazeera.com</td>\n      <td>twillsupport@maersk.com</td>\n      <td>vikramjeet.karangale@maersk.com; booking@nejou...</td>\n      <td>None</td>\n      <td>True</td>\n      <td>None</td>\n      <td>2</td>\n      <td>2020-09-07 12:40:23</td>\n      <td>None</td>\n      <td>None</td>\n      <td>None</td>\n      <td>&lt;div dir=\"ltr\"&gt;Hi Maersk Twill Team&lt;div&gt;&lt;br&gt;&lt;/...</td>\n      <td>Hi Maersk Twill Team\\n\\nPLease reply as soon a...</td>\n    </tr>\n  </tbody>\n</table>\n</div>"
     },
     "metadata": {},
     "execution_count": 84
    }
   ],
   "source": [
    "data['html_body_quote_removed'] = data.apply(lambda row: tq.extract_from_html(row['html_body']) if row['html_body'] else None, axis=1)\n",
    "data['text_body_quote_removed'] = data.apply(lambda row:  tq.extract_from_plain(row['text_body']) if row['text_body'] else None, axis=1)\n",
    "\n",
    "\n",
    "data.head()"
   ]
  },
  {
   "cell_type": "code",
   "execution_count": 85,
   "metadata": {},
   "outputs": [],
   "source": [
    "# TODO FIX ME -> html_body to text_body seems not to work properly.......\n",
    "# ANSWER -> html_body parser only accepts _MAX_TAGS_COUNT size in HTML tags therefore too big email chains are not processed. (see def: html_document_fromstring)\n",
    "data['has_signature'] = data.apply(lambda row: helpers.has_signature(row['text_body_quote_removed'], row['validated_from_address']) if row['text_body_quote_removed'] else 'Empty', axis=1)\n"
   ]
  },
  {
   "cell_type": "code",
   "execution_count": 86,
   "metadata": {},
   "outputs": [
    {
     "output_type": "execute_result",
     "data": {
      "text/plain": [
       "True     1900\n",
       "Empty     788\n",
       "NaN       775\n",
       "Name: has_signature, dtype: int64"
      ]
     },
     "metadata": {},
     "execution_count": 86
    }
   ],
   "source": [
    "data['has_signature'].value_counts(dropna=False)"
   ]
  },
  {
   "cell_type": "code",
   "execution_count": 66,
   "metadata": {},
   "outputs": [],
   "source": [
    "no_signature = data[data['has_signature'].isnull()].reset_index()"
   ]
  },
  {
   "source": [
    "## Evaluating the `has_signature` function"
   ],
   "cell_type": "markdown",
   "metadata": {}
  },
  {
   "cell_type": "code",
   "execution_count": 10,
   "metadata": {},
   "outputs": [
    {
     "output_type": "stream",
     "name": "stdout",
     "text": [
      "Email:  snapfreight@gmail.com\nDear Mr.Deepak,\n\nPlease Note as per CHA form 13 is issued and the container is Gated in.\nBut on Maersk's website there is no update.\nCan you please check and confirm the container gated in or not?\n\nHTML EMAIL ------------\n\n"
     ]
    },
    {
     "output_type": "display_data",
     "data": {
      "text/plain": "<IPython.core.display.HTML object>",
      "text/html": "<div dir=\"ltr\">Dear Mr.Deepak,<div><br></div><div>Please Note as per CHA form 13 is issued and the container is Gated in.</div><div>But on Maersk&#39;s website there is no update.</div><div>Can you please check and confirm the container gated in or not? </div><div><br clear=\"all\"><div><div dir=\"ltr\" class=\"gmail_signature\" data-smartmail=\"gmail_signature\"><div dir=\"ltr\"><div><div dir=\"ltr\"><img src=\"https://docs.google.com/uc?export=download&amp;id=1w8h-_gZOnGHE_N6PeULhjUXjBh7baxCQ&amp;revid=0B53AAV4puLnfWWs5b0d3eE1iV2tSWG0wSzljZ1lVMmNuTnVFPQ\" width=\"200\" height=\"74\"><br></div></div></div></div></div></div></div>"
     },
     "metadata": {}
    }
   ],
   "source": [
    "error_index = 19\n",
    "print('Email: ', no_signature['validated_from_address'][error_index])\n",
    "print(no_signature['text_body_quote_removed'][error_index])\n",
    "print()\n",
    "print('HTML EMAIL ------------')\n",
    "print()\n",
    "display(HTML(no_signature['html_body_quote_removed'][error_index]))\n"
   ]
  },
  {
   "cell_type": "code",
   "execution_count": 55,
   "metadata": {},
   "outputs": [],
   "source": [
    "SIGNATURE_MAX_LINES = 16\n",
    "\n",
    "def has_signature2(body, sender):\n",
    "    '''Checks if the body has signature. Returns True or False.'''\n",
    "    # split signature long lines e.g. Tel: +34 123 456 789 | Fax: +34 123 456 789\n",
    "    non_empty = helpers.flatten_list([line.split(' | ') for line in body.splitlines() if line.strip()])\n",
    "    \"\"\"\n",
    "    Removing long lines from emails before looping through candidates as sometimes we have:\n",
    "    >>> Jean Phelippe\n",
    "    >>> ABC Logistics\n",
    "    >>> Germany\n",
    "    >>> Wir arbeiten ausschließlich auf Grundlage der Allgemeinen Deutschen Spediteurbedingungen, ADSp2017.\n",
    "    >>> This e-mail and any attachments are confidential and may also be privileged. If you are not the named recipient, please notify the sender immediately and do not disclose the contents to another person[...]\n",
    "    \"\"\"\n",
    "    not_long = [line for line in non_empty if len(line) <= 200]\n",
    "    candidates = not_long[-SIGNATURE_MAX_LINES:]\n",
    "    print('Candidates: ')\n",
    "    print(candidates)\n",
    "    print()\n",
    "    print()\n",
    "    upvotes = 0\n",
    "    for line in candidates:\n",
    "        if helpers.contains_sender_names(sender)(line):\n",
    "            print('Contain sender: ', line)\n",
    "            return True\n",
    "        elif (helpers.binary_regex_search(helpers.RE_RELAX_PHONE)(line) +\n",
    "              helpers.binary_regex_search(helpers.RE_EMAIL)(line) +\n",
    "              helpers.binary_regex_search(helpers.RE_URL)(line) >= 1):\n",
    "              print('Contain RELAX_PHONE, EMAIL OR URL: ', line)\n",
    "              upvotes += 1\n",
    "        elif (helpers.binary_regex_search(helpers.RE_SIGNATURE_WORDS)(line) == 1):\n",
    "            print('Contain RE_SIGNATURE_WORDS: ', line)\n",
    "            upvotes += 1\n",
    "        else:\n",
    "            print('Nothing found ', line)\n",
    "    if upvotes > 1:\n",
    "        return True"
   ]
  },
  {
   "cell_type": "code",
   "execution_count": 56,
   "metadata": {},
   "outputs": [
    {
     "output_type": "stream",
     "name": "stdout",
     "text": [
      "Email:  shipping1@younsaint.com\nHi,\n此单的数据已经提交了，但是柜型之前后台修改为40HC，系统还未同步，立方数我这边是69，系统只能填67先提交了，请后台帮忙更新，谢谢。\n\n\nMandy Yan\n \nCell#: 86-18321292926    Tel: 86-21-34635185-802   E-mail: shipping1@younsaint.com\nOffice: 301, Buliding #40, No 258, Xinzhuan Rd, Shanghai 201612\nShowroom: 101, Builiding #42,No 258, Xinzhuan Rd, Shanghai 201612\n----------ANALYSIS----------\nCandidates: \n['Hi,', '此单的数据已经提交了，但是柜型之前后台修改为40HC，系统还未同步，立方数我这边是69，系统只能填67先提交了，请后台帮忙更新，谢谢。', 'Mandy Yan', 'Cell#: 86-18321292926    Tel: 86-21-34635185-802   E-mail: shipping1@younsaint.com', 'Office: 301, Buliding #40, No 258, Xinzhuan Rd, Shanghai 201612', 'Showroom: 101, Builiding #42,No 258, Xinzhuan Rd, Shanghai 201612']\n\n\nNothing found  Hi,\nNothing found  此单的数据已经提交了，但是柜型之前后台修改为40HC，系统还未同步，立方数我这边是69，系统只能填67先提交了，请后台帮忙更新，谢谢。\nNothing found  Mandy Yan\nContain RELAX_PHONE, EMAIL OR URL:  Cell#: 86-18321292926    Tel: 86-21-34635185-802   E-mail: shipping1@younsaint.com\nContain RELAX_PHONE, EMAIL OR URL:  Office: 301, Buliding #40, No 258, Xinzhuan Rd, Shanghai 201612\nContain RELAX_PHONE, EMAIL OR URL:  Showroom: 101, Builiding #42,No 258, Xinzhuan Rd, Shanghai 201612\n"
     ]
    },
    {
     "output_type": "execute_result",
     "data": {
      "text/plain": [
       "True"
      ]
     },
     "metadata": {},
     "execution_count": 56
    }
   ],
   "source": [
    "error_index = 22\n",
    "\n",
    "print('Email: ', no_signature['validated_from_address'][error_index])\n",
    "print(no_signature['text_body_quote_removed'][error_index])\n",
    "print('----------ANALYSIS----------')\n",
    "has_signature2(no_signature['text_body_quote_removed'][error_index], no_signature['validated_from_address'][error_index])"
   ]
  },
  {
   "cell_type": "code",
   "execution_count": 75,
   "metadata": {},
   "outputs": [
    {
     "output_type": "execute_result",
     "data": {
      "text/plain": [
       "1"
      ]
     },
     "metadata": {},
     "execution_count": 75
    }
   ],
   "source": [
    "helpers.binary_regex_search(helpers.RE_EMAIL)('Cell#: 86-18321292926    Tel: 86-21-34635185-802   E-mail: shipping1@younsaint.com')"
   ]
  },
  {
   "cell_type": "code",
   "execution_count": 30,
   "metadata": {},
   "outputs": [
    {
     "output_type": "stream",
     "name": "stdout",
     "text": [
      "phuongtth@phaleminerals.com.vn\n\n"
     ]
    },
    {
     "output_type": "execute_result",
     "data": {
      "text/plain": [
       "['Dear Ms Nhã,',\n",
       " 'B/L thêm giúp em vào phần mổ tả hàng hóa:',\n",
       " '-          NOT FOR MEDICINAL USE ',\n",
       " '-          HS CODE: 38249990',\n",
       " 'Các nội dung còn lại ok rồi ạ.',\n",
       " '         ********',\n",
       " 'Thank and Best regard!                                              ',\n",
       " 'HA PHUONG TRAN',\n",
       " 'Imp – Exp Department',\n",
       " 'Mobile   : +84 936 093 337',\n",
       " 'Skype    : haphuong.mars3',\n",
       " 'Website :   <http://www.phaleminerals.com.vn/> www.phaleminerals.com.vn',\n",
       " 'Address :  2th Floor, Tower A, Rivera Park , 69  Vu Trong Phung Str.,  Thanh Xuan Dist., Hanoi, Vietnam']"
      ]
     },
     "metadata": {},
     "execution_count": 30
    }
   ],
   "source": [
    "#display(HTML(no_signature['html_body'][2]))\n",
    "error_index = 2\n",
    "#helpers.has_signature(no_signature['validated_text_body'][error_index], no_signature['validated_from_address'][error_index])\n",
    "print(no_signature['validated_from_address'][error_index])\n",
    "print()\n",
    "[line for line in no_signature['validated_text_body'][error_index].splitlines() if line.strip()]"
   ]
  },
  {
   "cell_type": "code",
   "execution_count": 67,
   "metadata": {},
   "outputs": [
    {
     "output_type": "execute_result",
     "data": {
      "text/plain": [
       "<email.message.Message at 0x198233880>"
      ]
     },
     "metadata": {},
     "execution_count": 67
    }
   ],
   "source": [
    "import email\n",
    "\n",
    "email.message_from_string(html_example)"
   ]
  },
  {
   "cell_type": "code",
   "execution_count": 11,
   "metadata": {},
   "outputs": [
    {
     "output_type": "execute_result",
     "data": {
      "text/plain": [
       "'Hi Ms Nha,\\n\\n \\n\\nSorry that customer have cancelled below booking , thank you.\\n\\n \\n\\nBest Regards\\n\\nJudy'"
      ]
     },
     "metadata": {},
     "execution_count": 11
    }
   ],
   "source": []
  },
  {
   "cell_type": "code",
   "execution_count": 76,
   "metadata": {},
   "outputs": [],
   "source": [
    "signature_data = data[data['has_signature'] == True]"
   ]
  },
  {
   "cell_type": "code",
   "execution_count": 77,
   "metadata": {},
   "outputs": [
    {
     "output_type": "execute_result",
     "data": {
      "text/plain": [
       "['Dear',\n",
       " '204651349  箱量请改为2X40HQ，谢谢！',\n",
       " '',\n",
       " '',\n",
       " '',\n",
       " 'Best Regards ',\n",
       " '-------------- ',\n",
       " '邵    娜   Grace',\n",
       " '常州分公司     海运部  ',\n",
       " '江苏众诚国际物流有限公司',\n",
       " 'Jiangsu Uniwill Logistics Co.,Ltd.',\n",
       " 'Tel: 86-519-85167019',\n",
       " 'Fax: 86-519-85167011',\n",
       " 'Mobile: 13961144307',\n",
       " '企业微信: 联系我',\n",
       " 'QQ:310634359',\n",
       " 'Add: 江苏省常州市新北区府西花园商用房6-301室',\n",
       " 'ZIP: 213022',\n",
       " 'ADD: 6-301 COMMERCIAL BUILDING OF FUXI GARDEN,CHANGZHOU NEW DISTRICT CHANGZHOU,CHINA',\n",
       " 'Website: http://www.uniwill-logistics.com']"
      ]
     },
     "metadata": {},
     "execution_count": 77
    }
   ],
   "source": [
    "signature_data['text_body_quote_removed'][0].splitlines()"
   ]
  },
  {
   "cell_type": "code",
   "execution_count": 89,
   "metadata": {},
   "outputs": [],
   "source": [
    "SIGNATURE_MAX_LINES = 16\n",
    "\n",
    "def tag_signature(body, sender, TAG='#sig#'):\n",
    "    '''Tags the signature'''\n",
    "    \"\"\"\n",
    "        TODO -> 1) index all lines of the body, 2) run through the program and get first potential candidate, tag all rows till the end as signature.\n",
    "    \"\"\"\n",
    "    all_lines = body.splitlines()\n",
    "    index = None\n",
    "    # Get first signature line\n",
    "    for line in all_lines:\n",
    "        if helpers.contains_sender_names(sender)(line):\n",
    "            print('contains sender')\n",
    "            index = all_lines.index(line)\n",
    "            break\n",
    "        elif (helpers.binary_regex_search(helpers.RE_RELAX_PHONE)(line) +\n",
    "              helpers.binary_regex_search(helpers.RE_EMAIL)(line) +\n",
    "              helpers.binary_regex_search(helpers.RE_URL)(line) >= 1):\n",
    "              print('contains email, url or phone')\n",
    "              print(line)\n",
    "              index = all_lines.index(line)\n",
    "              break\n",
    "        elif (helpers.binary_regex_search(helpers.RE_SIGNATURE_WORDS)(line) == 1):\n",
    "            print('contains signature word')\n",
    "            print(line)\n",
    "            index = all_lines.index(line)\n",
    "            break\n",
    "        else:\n",
    "            pass\n",
    "    return index"
   ]
  },
  {
   "cell_type": "code",
   "execution_count": 90,
   "metadata": {},
   "outputs": [
    {
     "output_type": "stream",
     "name": "stdout",
     "text": [
      "contains signature word\nBest Regards \n"
     ]
    },
    {
     "output_type": "execute_result",
     "data": {
      "text/plain": [
       "5"
      ]
     },
     "metadata": {},
     "execution_count": 90
    }
   ],
   "source": [
    "tag_signature(signature_data['text_body_quote_removed'][0], signature_data['validated_from_address'][0])"
   ]
  },
  {
   "cell_type": "code",
   "execution_count": null,
   "metadata": {},
   "outputs": [],
   "source": []
  }
 ]
}