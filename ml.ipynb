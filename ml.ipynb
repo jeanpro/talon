{
 "metadata": {
  "language_info": {
   "codemirror_mode": {
    "name": "ipython",
    "version": 3
   },
   "file_extension": ".py",
   "mimetype": "text/x-python",
   "name": "python",
   "nbconvert_exporter": "python",
   "pygments_lexer": "ipython3",
   "version": "3.8.3-final"
  },
  "orig_nbformat": 2,
  "kernelspec": {
   "name": "python3",
   "display_name": "Python 3.8.3 64-bit ('talon': conda)",
   "metadata": {
    "interpreter": {
     "hash": "a8f2707d2d1dbb352651db5db52548047d7e03ccd08521e90e4bcec76f4b76a0"
    }
   }
  }
 },
 "nbformat": 4,
 "nbformat_minor": 2,
 "cells": [
  {
   "cell_type": "code",
   "execution_count": 1,
   "metadata": {},
   "outputs": [],
   "source": [
    "from talon.signature import EXTRACTOR_FILENAME, EXTRACTOR_DATA\n",
    "from talon.signature.learning.classifier import train, init\n",
    "import talon.signature.learning.helpers as helpers\n",
    "import talon.quotations as tq\n",
    "from IPython.core.display import display, HTML\n",
    "from talon.quotations import register_xpath_extensions\n",
    "\n",
    "import talon.utils as utils\n",
    "\n",
    "register_xpath_extensions()\n",
    "\n",
    "import pandas as pd\n",
    "pd.set_option('display.max_columns', None)"
   ]
  },
  {
   "cell_type": "code",
   "execution_count": 2,
   "metadata": {},
   "outputs": [
    {
     "output_type": "execute_result",
     "data": {
      "text/plain": [
       "   index                  id           parent_id activity_id  \\\n",
       "0      1  02s2o00002y8UF7AAM  5002o00002KiCiLAAV        None   \n",
       "1      2  02s2o00002y8lWhAAI  5002o00002KiNooAAF        None   \n",
       "2      3  02s2o00002yGCEYAA4  5002o00002KkJ4AAAV        None   \n",
       "3      6  02s2o00002yZsA4AAK  5002o00002KjkuXAAR        None   \n",
       "4      8  02s2o00002ydLhbAAE  5002o00002L8IRLAA3        None   \n",
       "\n",
       "        created_by_id                  created_date  last_modified_date  \\\n",
       "0  005D00000041R4YIAU  2020-01-08T04:23:58.000+0000 2020-01-08 04:45:57   \n",
       "1  005D00000041R4YIAU  2020-01-08T07:01:49.000+0000 2020-01-08 08:17:43   \n",
       "2  005D00000041R4YIAU  2020-01-09T12:05:26.000+0000 2020-01-09 12:11:02   \n",
       "3  005D00000041R4YIAU  2020-01-13T12:27:48.000+0000 2020-01-14 09:46:38   \n",
       "4  005D00000041R4YIAU  2020-01-14T15:58:42.000+0000 2020-01-14 15:58:42   \n",
       "\n",
       "  last_modified_by_id     system_modstamp  \\\n",
       "0  0052o000008NJvqAAG 2020-01-08 06:46:59   \n",
       "1  0052o000009VvDHAA0 2020-01-08 15:05:56   \n",
       "2  0052o000009bcD0AAI 2020-01-09 12:12:21   \n",
       "3  0052o000009bavFAAQ 2020-01-14 09:47:05   \n",
       "4  005D00000041R4YIAU 2020-01-14 16:17:48   \n",
       "\n",
       "                                           text_body  \\\n",
       "0  Hello,\\n\\nWe are from Vietnam factory and supp...   \n",
       "1  您好，我的账号登录不了，麻烦帮我处理一下，谢谢！“\\n\\n\\n\\nThanks and Be...   \n",
       "2  DearPlease check and reply\\n\\n\\n\\n\\n\\nSent fro...   \n",
       "3  Hi Ms Nha,\\n\\n \\n\\nSorry that customer have ca...   \n",
       "4  Hi Matt\\n\\nI’m just trying to book a shipment....   \n",
       "\n",
       "                                           html_body headers  \\\n",
       "0  <html><head><meta http-equiv=\"content-type\" co...    None   \n",
       "1  <html><head><meta http-equiv=\"content-type\" co...    None   \n",
       "2  <html xmlns=\"http://www.w3.org/1999/xhtml\" xml...    None   \n",
       "3  <html xmlns:v=\"urn:schemas-microsoft-com:vml\" ...    None   \n",
       "4  <html xmlns:v=\"urn:schemas-microsoft-com:vml\" ...    None   \n",
       "\n",
       "                                             subject  \\\n",
       "0                                           Question   \n",
       "1                                             账号登录不了   \n",
       "2  Re: drazleather    [ ref:_00DD0n6xF._5002o2KkJ...   \n",
       "3  回覆: 回覆: 回覆: SUBMIT NEW BOOKING FOR CUSTOMER RO...   \n",
       "4  RE: Problems trying to book a shipment    [ re...   \n",
       "\n",
       "                     from_name                 from_address  \\\n",
       "0  bella@thanhtincandlesco.com  bella@thanhtincandlesco.com   \n",
       "1               lisa@kstar.com               lisa@kstar.com   \n",
       "2                mohammad draz        drazleather@yahoo.com   \n",
       "3                         Judy            judy@omaywood.com   \n",
       "4               Carolynn Young       carolynn@sackmaker.com   \n",
       "\n",
       "        validated_from_address               to_address  \\\n",
       "0  bella@thanhtincandlesco.com  twillsupport@maersk.com   \n",
       "1               lisa@kstar.com  twillsupport@maersk.com   \n",
       "2        drazleather@yahoo.com  twillsupport@maersk.com   \n",
       "3            judy@omaywood.com  twillsupport@maersk.com   \n",
       "4       carolynn@sackmaker.com  twillsupport@maersk.com   \n",
       "\n",
       "                                      cc_address bcc_address  incoming  \\\n",
       "0                                           None        None      True   \n",
       "1                                           None        None      True   \n",
       "2                       yara.almomani@maersk.com        None      True   \n",
       "3  harley@omaywood.com; wendy.dengvn@outlook.com        None      True   \n",
       "4                                           None        None      True   \n",
       "\n",
       "  has_attachment status        message_date is_deleted  \\\n",
       "0           None      2 2020-01-08 04:23:44       None   \n",
       "1           None      2 2020-01-08 07:02:15       None   \n",
       "2           None      2 2020-01-09 12:05:01       None   \n",
       "3           None      2 2020-01-13 12:24:26       None   \n",
       "4           None      2 2020-01-14 15:58:27       None   \n",
       "\n",
       "  reply_to_email_message_id is_externally_visible  \n",
       "0                      None                  None  \n",
       "1                      None                  None  \n",
       "2                      None                  None  \n",
       "3                      None                  None  \n",
       "4                      None                  None  "
      ],
      "text/html": "<div>\n<style scoped>\n    .dataframe tbody tr th:only-of-type {\n        vertical-align: middle;\n    }\n\n    .dataframe tbody tr th {\n        vertical-align: top;\n    }\n\n    .dataframe thead th {\n        text-align: right;\n    }\n</style>\n<table border=\"1\" class=\"dataframe\">\n  <thead>\n    <tr style=\"text-align: right;\">\n      <th></th>\n      <th>index</th>\n      <th>id</th>\n      <th>parent_id</th>\n      <th>activity_id</th>\n      <th>created_by_id</th>\n      <th>created_date</th>\n      <th>last_modified_date</th>\n      <th>last_modified_by_id</th>\n      <th>system_modstamp</th>\n      <th>text_body</th>\n      <th>html_body</th>\n      <th>headers</th>\n      <th>subject</th>\n      <th>from_name</th>\n      <th>from_address</th>\n      <th>validated_from_address</th>\n      <th>to_address</th>\n      <th>cc_address</th>\n      <th>bcc_address</th>\n      <th>incoming</th>\n      <th>has_attachment</th>\n      <th>status</th>\n      <th>message_date</th>\n      <th>is_deleted</th>\n      <th>reply_to_email_message_id</th>\n      <th>is_externally_visible</th>\n    </tr>\n  </thead>\n  <tbody>\n    <tr>\n      <th>0</th>\n      <td>1</td>\n      <td>02s2o00002y8UF7AAM</td>\n      <td>5002o00002KiCiLAAV</td>\n      <td>None</td>\n      <td>005D00000041R4YIAU</td>\n      <td>2020-01-08T04:23:58.000+0000</td>\n      <td>2020-01-08 04:45:57</td>\n      <td>0052o000008NJvqAAG</td>\n      <td>2020-01-08 06:46:59</td>\n      <td>Hello,\\n\\nWe are from Vietnam factory and supp...</td>\n      <td>&lt;html&gt;&lt;head&gt;&lt;meta http-equiv=\"content-type\" co...</td>\n      <td>None</td>\n      <td>Question</td>\n      <td>bella@thanhtincandlesco.com</td>\n      <td>bella@thanhtincandlesco.com</td>\n      <td>bella@thanhtincandlesco.com</td>\n      <td>twillsupport@maersk.com</td>\n      <td>None</td>\n      <td>None</td>\n      <td>True</td>\n      <td>None</td>\n      <td>2</td>\n      <td>2020-01-08 04:23:44</td>\n      <td>None</td>\n      <td>None</td>\n      <td>None</td>\n    </tr>\n    <tr>\n      <th>1</th>\n      <td>2</td>\n      <td>02s2o00002y8lWhAAI</td>\n      <td>5002o00002KiNooAAF</td>\n      <td>None</td>\n      <td>005D00000041R4YIAU</td>\n      <td>2020-01-08T07:01:49.000+0000</td>\n      <td>2020-01-08 08:17:43</td>\n      <td>0052o000009VvDHAA0</td>\n      <td>2020-01-08 15:05:56</td>\n      <td>您好，我的账号登录不了，麻烦帮我处理一下，谢谢！“\\n\\n\\n\\nThanks and Be...</td>\n      <td>&lt;html&gt;&lt;head&gt;&lt;meta http-equiv=\"content-type\" co...</td>\n      <td>None</td>\n      <td>账号登录不了</td>\n      <td>lisa@kstar.com</td>\n      <td>lisa@kstar.com</td>\n      <td>lisa@kstar.com</td>\n      <td>twillsupport@maersk.com</td>\n      <td>None</td>\n      <td>None</td>\n      <td>True</td>\n      <td>None</td>\n      <td>2</td>\n      <td>2020-01-08 07:02:15</td>\n      <td>None</td>\n      <td>None</td>\n      <td>None</td>\n    </tr>\n    <tr>\n      <th>2</th>\n      <td>3</td>\n      <td>02s2o00002yGCEYAA4</td>\n      <td>5002o00002KkJ4AAAV</td>\n      <td>None</td>\n      <td>005D00000041R4YIAU</td>\n      <td>2020-01-09T12:05:26.000+0000</td>\n      <td>2020-01-09 12:11:02</td>\n      <td>0052o000009bcD0AAI</td>\n      <td>2020-01-09 12:12:21</td>\n      <td>DearPlease check and reply\\n\\n\\n\\n\\n\\nSent fro...</td>\n      <td>&lt;html xmlns=\"http://www.w3.org/1999/xhtml\" xml...</td>\n      <td>None</td>\n      <td>Re: drazleather    [ ref:_00DD0n6xF._5002o2KkJ...</td>\n      <td>mohammad draz</td>\n      <td>drazleather@yahoo.com</td>\n      <td>drazleather@yahoo.com</td>\n      <td>twillsupport@maersk.com</td>\n      <td>yara.almomani@maersk.com</td>\n      <td>None</td>\n      <td>True</td>\n      <td>None</td>\n      <td>2</td>\n      <td>2020-01-09 12:05:01</td>\n      <td>None</td>\n      <td>None</td>\n      <td>None</td>\n    </tr>\n    <tr>\n      <th>3</th>\n      <td>6</td>\n      <td>02s2o00002yZsA4AAK</td>\n      <td>5002o00002KjkuXAAR</td>\n      <td>None</td>\n      <td>005D00000041R4YIAU</td>\n      <td>2020-01-13T12:27:48.000+0000</td>\n      <td>2020-01-14 09:46:38</td>\n      <td>0052o000009bavFAAQ</td>\n      <td>2020-01-14 09:47:05</td>\n      <td>Hi Ms Nha,\\n\\n \\n\\nSorry that customer have ca...</td>\n      <td>&lt;html xmlns:v=\"urn:schemas-microsoft-com:vml\" ...</td>\n      <td>None</td>\n      <td>回覆: 回覆: 回覆: SUBMIT NEW BOOKING FOR CUSTOMER RO...</td>\n      <td>Judy</td>\n      <td>judy@omaywood.com</td>\n      <td>judy@omaywood.com</td>\n      <td>twillsupport@maersk.com</td>\n      <td>harley@omaywood.com; wendy.dengvn@outlook.com</td>\n      <td>None</td>\n      <td>True</td>\n      <td>None</td>\n      <td>2</td>\n      <td>2020-01-13 12:24:26</td>\n      <td>None</td>\n      <td>None</td>\n      <td>None</td>\n    </tr>\n    <tr>\n      <th>4</th>\n      <td>8</td>\n      <td>02s2o00002ydLhbAAE</td>\n      <td>5002o00002L8IRLAA3</td>\n      <td>None</td>\n      <td>005D00000041R4YIAU</td>\n      <td>2020-01-14T15:58:42.000+0000</td>\n      <td>2020-01-14 15:58:42</td>\n      <td>005D00000041R4YIAU</td>\n      <td>2020-01-14 16:17:48</td>\n      <td>Hi Matt\\n\\nI’m just trying to book a shipment....</td>\n      <td>&lt;html xmlns:v=\"urn:schemas-microsoft-com:vml\" ...</td>\n      <td>None</td>\n      <td>RE: Problems trying to book a shipment    [ re...</td>\n      <td>Carolynn Young</td>\n      <td>carolynn@sackmaker.com</td>\n      <td>carolynn@sackmaker.com</td>\n      <td>twillsupport@maersk.com</td>\n      <td>None</td>\n      <td>None</td>\n      <td>True</td>\n      <td>None</td>\n      <td>2</td>\n      <td>2020-01-14 15:58:27</td>\n      <td>None</td>\n      <td>None</td>\n      <td>None</td>\n    </tr>\n  </tbody>\n</table>\n</div>"
     },
     "metadata": {},
     "execution_count": 2
    }
   ],
   "source": [
    "data = pd.read_parquet('./data/part-00000.snappy.parquet')\n",
    "data = data[data['status'] == '2']\n",
    "data = data.reset_index()\n",
    "data.head()"
   ]
  },
  {
   "cell_type": "code",
   "execution_count": 3,
   "metadata": {},
   "outputs": [
    {
     "output_type": "execute_result",
     "data": {
      "text/plain": [
       "   index                  id           parent_id activity_id  \\\n",
       "0      1  02s2o00002y8UF7AAM  5002o00002KiCiLAAV        None   \n",
       "1      2  02s2o00002y8lWhAAI  5002o00002KiNooAAF        None   \n",
       "2      3  02s2o00002yGCEYAA4  5002o00002KkJ4AAAV        None   \n",
       "3      6  02s2o00002yZsA4AAK  5002o00002KjkuXAAR        None   \n",
       "4      8  02s2o00002ydLhbAAE  5002o00002L8IRLAA3        None   \n",
       "\n",
       "        created_by_id                  created_date  last_modified_date  \\\n",
       "0  005D00000041R4YIAU  2020-01-08T04:23:58.000+0000 2020-01-08 04:45:57   \n",
       "1  005D00000041R4YIAU  2020-01-08T07:01:49.000+0000 2020-01-08 08:17:43   \n",
       "2  005D00000041R4YIAU  2020-01-09T12:05:26.000+0000 2020-01-09 12:11:02   \n",
       "3  005D00000041R4YIAU  2020-01-13T12:27:48.000+0000 2020-01-14 09:46:38   \n",
       "4  005D00000041R4YIAU  2020-01-14T15:58:42.000+0000 2020-01-14 15:58:42   \n",
       "\n",
       "  last_modified_by_id     system_modstamp  \\\n",
       "0  0052o000008NJvqAAG 2020-01-08 06:46:59   \n",
       "1  0052o000009VvDHAA0 2020-01-08 15:05:56   \n",
       "2  0052o000009bcD0AAI 2020-01-09 12:12:21   \n",
       "3  0052o000009bavFAAQ 2020-01-14 09:47:05   \n",
       "4  005D00000041R4YIAU 2020-01-14 16:17:48   \n",
       "\n",
       "                                           text_body  \\\n",
       "0  Hello,\\n\\nWe are from Vietnam factory and supp...   \n",
       "1  您好，我的账号登录不了，麻烦帮我处理一下，谢谢！“\\n\\n\\n\\nThanks and Be...   \n",
       "2  DearPlease check and reply\\n\\n\\n\\n\\n\\nSent fro...   \n",
       "3  Hi Ms Nha,\\n\\n \\n\\nSorry that customer have ca...   \n",
       "4  Hi Matt\\n\\nI’m just trying to book a shipment....   \n",
       "\n",
       "                                           html_body headers  \\\n",
       "0  <html><head><meta http-equiv=\"content-type\" co...    None   \n",
       "1  <html><head><meta http-equiv=\"content-type\" co...    None   \n",
       "2  <html xmlns=\"http://www.w3.org/1999/xhtml\" xml...    None   \n",
       "3  <html xmlns:v=\"urn:schemas-microsoft-com:vml\" ...    None   \n",
       "4  <html xmlns:v=\"urn:schemas-microsoft-com:vml\" ...    None   \n",
       "\n",
       "                                             subject  \\\n",
       "0                                           Question   \n",
       "1                                             账号登录不了   \n",
       "2  Re: drazleather    [ ref:_00DD0n6xF._5002o2KkJ...   \n",
       "3  回覆: 回覆: 回覆: SUBMIT NEW BOOKING FOR CUSTOMER RO...   \n",
       "4  RE: Problems trying to book a shipment    [ re...   \n",
       "\n",
       "                     from_name                 from_address  \\\n",
       "0  bella@thanhtincandlesco.com  bella@thanhtincandlesco.com   \n",
       "1               lisa@kstar.com               lisa@kstar.com   \n",
       "2                mohammad draz        drazleather@yahoo.com   \n",
       "3                         Judy            judy@omaywood.com   \n",
       "4               Carolynn Young       carolynn@sackmaker.com   \n",
       "\n",
       "        validated_from_address               to_address  \\\n",
       "0  bella@thanhtincandlesco.com  twillsupport@maersk.com   \n",
       "1               lisa@kstar.com  twillsupport@maersk.com   \n",
       "2        drazleather@yahoo.com  twillsupport@maersk.com   \n",
       "3            judy@omaywood.com  twillsupport@maersk.com   \n",
       "4       carolynn@sackmaker.com  twillsupport@maersk.com   \n",
       "\n",
       "                                      cc_address bcc_address  incoming  \\\n",
       "0                                           None        None      True   \n",
       "1                                           None        None      True   \n",
       "2                       yara.almomani@maersk.com        None      True   \n",
       "3  harley@omaywood.com; wendy.dengvn@outlook.com        None      True   \n",
       "4                                           None        None      True   \n",
       "\n",
       "  has_attachment status        message_date is_deleted  \\\n",
       "0           None      2 2020-01-08 04:23:44       None   \n",
       "1           None      2 2020-01-08 07:02:15       None   \n",
       "2           None      2 2020-01-09 12:05:01       None   \n",
       "3           None      2 2020-01-13 12:24:26       None   \n",
       "4           None      2 2020-01-14 15:58:27       None   \n",
       "\n",
       "  reply_to_email_message_id is_externally_visible  \\\n",
       "0                      None                  None   \n",
       "1                      None                  None   \n",
       "2                      None                  None   \n",
       "3                      None                  None   \n",
       "4                      None                  None   \n",
       "\n",
       "                             html_body_quote_removed  \\\n",
       "0  <html><head><meta http-equiv=\"content-type\" co...   \n",
       "1  <html><head><meta http-equiv=\"content-type\" co...   \n",
       "2  <html xmlns=\"http://www.w3.org/1999/xhtml\"><he...   \n",
       "3  <html xmlns:v=\"urn:schemas-microsoft-com:vml\" ...   \n",
       "4  <html xmlns:v=\"urn:schemas-microsoft-com:vml\" ...   \n",
       "\n",
       "                             text_body_quote_removed  \n",
       "0  b\"Hello, \\n\\nWe are from Vietnam factory and s...  \n",
       "1  b'\\xe9\\x8e\\xae\\xe3\\x84\\xa5\\xe3\\x82\\xbd\\xe9\\x94...  \n",
       "2  b'Dear \\nPlease check and reply \\nSent from Ya...  \n",
       "3                                               None  \n",
       "4                                               None  "
      ],
      "text/html": "<div>\n<style scoped>\n    .dataframe tbody tr th:only-of-type {\n        vertical-align: middle;\n    }\n\n    .dataframe tbody tr th {\n        vertical-align: top;\n    }\n\n    .dataframe thead th {\n        text-align: right;\n    }\n</style>\n<table border=\"1\" class=\"dataframe\">\n  <thead>\n    <tr style=\"text-align: right;\">\n      <th></th>\n      <th>index</th>\n      <th>id</th>\n      <th>parent_id</th>\n      <th>activity_id</th>\n      <th>created_by_id</th>\n      <th>created_date</th>\n      <th>last_modified_date</th>\n      <th>last_modified_by_id</th>\n      <th>system_modstamp</th>\n      <th>text_body</th>\n      <th>html_body</th>\n      <th>headers</th>\n      <th>subject</th>\n      <th>from_name</th>\n      <th>from_address</th>\n      <th>validated_from_address</th>\n      <th>to_address</th>\n      <th>cc_address</th>\n      <th>bcc_address</th>\n      <th>incoming</th>\n      <th>has_attachment</th>\n      <th>status</th>\n      <th>message_date</th>\n      <th>is_deleted</th>\n      <th>reply_to_email_message_id</th>\n      <th>is_externally_visible</th>\n      <th>html_body_quote_removed</th>\n      <th>text_body_quote_removed</th>\n    </tr>\n  </thead>\n  <tbody>\n    <tr>\n      <th>0</th>\n      <td>1</td>\n      <td>02s2o00002y8UF7AAM</td>\n      <td>5002o00002KiCiLAAV</td>\n      <td>None</td>\n      <td>005D00000041R4YIAU</td>\n      <td>2020-01-08T04:23:58.000+0000</td>\n      <td>2020-01-08 04:45:57</td>\n      <td>0052o000008NJvqAAG</td>\n      <td>2020-01-08 06:46:59</td>\n      <td>Hello,\\n\\nWe are from Vietnam factory and supp...</td>\n      <td>&lt;html&gt;&lt;head&gt;&lt;meta http-equiv=\"content-type\" co...</td>\n      <td>None</td>\n      <td>Question</td>\n      <td>bella@thanhtincandlesco.com</td>\n      <td>bella@thanhtincandlesco.com</td>\n      <td>bella@thanhtincandlesco.com</td>\n      <td>twillsupport@maersk.com</td>\n      <td>None</td>\n      <td>None</td>\n      <td>True</td>\n      <td>None</td>\n      <td>2</td>\n      <td>2020-01-08 04:23:44</td>\n      <td>None</td>\n      <td>None</td>\n      <td>None</td>\n      <td>&lt;html&gt;&lt;head&gt;&lt;meta http-equiv=\"content-type\" co...</td>\n      <td>b\"Hello, \\n\\nWe are from Vietnam factory and s...</td>\n    </tr>\n    <tr>\n      <th>1</th>\n      <td>2</td>\n      <td>02s2o00002y8lWhAAI</td>\n      <td>5002o00002KiNooAAF</td>\n      <td>None</td>\n      <td>005D00000041R4YIAU</td>\n      <td>2020-01-08T07:01:49.000+0000</td>\n      <td>2020-01-08 08:17:43</td>\n      <td>0052o000009VvDHAA0</td>\n      <td>2020-01-08 15:05:56</td>\n      <td>您好，我的账号登录不了，麻烦帮我处理一下，谢谢！“\\n\\n\\n\\nThanks and Be...</td>\n      <td>&lt;html&gt;&lt;head&gt;&lt;meta http-equiv=\"content-type\" co...</td>\n      <td>None</td>\n      <td>账号登录不了</td>\n      <td>lisa@kstar.com</td>\n      <td>lisa@kstar.com</td>\n      <td>lisa@kstar.com</td>\n      <td>twillsupport@maersk.com</td>\n      <td>None</td>\n      <td>None</td>\n      <td>True</td>\n      <td>None</td>\n      <td>2</td>\n      <td>2020-01-08 07:02:15</td>\n      <td>None</td>\n      <td>None</td>\n      <td>None</td>\n      <td>&lt;html&gt;&lt;head&gt;&lt;meta http-equiv=\"content-type\" co...</td>\n      <td>b'\\xe9\\x8e\\xae\\xe3\\x84\\xa5\\xe3\\x82\\xbd\\xe9\\x94...</td>\n    </tr>\n    <tr>\n      <th>2</th>\n      <td>3</td>\n      <td>02s2o00002yGCEYAA4</td>\n      <td>5002o00002KkJ4AAAV</td>\n      <td>None</td>\n      <td>005D00000041R4YIAU</td>\n      <td>2020-01-09T12:05:26.000+0000</td>\n      <td>2020-01-09 12:11:02</td>\n      <td>0052o000009bcD0AAI</td>\n      <td>2020-01-09 12:12:21</td>\n      <td>DearPlease check and reply\\n\\n\\n\\n\\n\\nSent fro...</td>\n      <td>&lt;html xmlns=\"http://www.w3.org/1999/xhtml\" xml...</td>\n      <td>None</td>\n      <td>Re: drazleather    [ ref:_00DD0n6xF._5002o2KkJ...</td>\n      <td>mohammad draz</td>\n      <td>drazleather@yahoo.com</td>\n      <td>drazleather@yahoo.com</td>\n      <td>twillsupport@maersk.com</td>\n      <td>yara.almomani@maersk.com</td>\n      <td>None</td>\n      <td>True</td>\n      <td>None</td>\n      <td>2</td>\n      <td>2020-01-09 12:05:01</td>\n      <td>None</td>\n      <td>None</td>\n      <td>None</td>\n      <td>&lt;html xmlns=\"http://www.w3.org/1999/xhtml\"&gt;&lt;he...</td>\n      <td>b'Dear \\nPlease check and reply \\nSent from Ya...</td>\n    </tr>\n    <tr>\n      <th>3</th>\n      <td>6</td>\n      <td>02s2o00002yZsA4AAK</td>\n      <td>5002o00002KjkuXAAR</td>\n      <td>None</td>\n      <td>005D00000041R4YIAU</td>\n      <td>2020-01-13T12:27:48.000+0000</td>\n      <td>2020-01-14 09:46:38</td>\n      <td>0052o000009bavFAAQ</td>\n      <td>2020-01-14 09:47:05</td>\n      <td>Hi Ms Nha,\\n\\n \\n\\nSorry that customer have ca...</td>\n      <td>&lt;html xmlns:v=\"urn:schemas-microsoft-com:vml\" ...</td>\n      <td>None</td>\n      <td>回覆: 回覆: 回覆: SUBMIT NEW BOOKING FOR CUSTOMER RO...</td>\n      <td>Judy</td>\n      <td>judy@omaywood.com</td>\n      <td>judy@omaywood.com</td>\n      <td>twillsupport@maersk.com</td>\n      <td>harley@omaywood.com; wendy.dengvn@outlook.com</td>\n      <td>None</td>\n      <td>True</td>\n      <td>None</td>\n      <td>2</td>\n      <td>2020-01-13 12:24:26</td>\n      <td>None</td>\n      <td>None</td>\n      <td>None</td>\n      <td>&lt;html xmlns:v=\"urn:schemas-microsoft-com:vml\" ...</td>\n      <td>None</td>\n    </tr>\n    <tr>\n      <th>4</th>\n      <td>8</td>\n      <td>02s2o00002ydLhbAAE</td>\n      <td>5002o00002L8IRLAA3</td>\n      <td>None</td>\n      <td>005D00000041R4YIAU</td>\n      <td>2020-01-14T15:58:42.000+0000</td>\n      <td>2020-01-14 15:58:42</td>\n      <td>005D00000041R4YIAU</td>\n      <td>2020-01-14 16:17:48</td>\n      <td>Hi Matt\\n\\nI’m just trying to book a shipment....</td>\n      <td>&lt;html xmlns:v=\"urn:schemas-microsoft-com:vml\" ...</td>\n      <td>None</td>\n      <td>RE: Problems trying to book a shipment    [ re...</td>\n      <td>Carolynn Young</td>\n      <td>carolynn@sackmaker.com</td>\n      <td>carolynn@sackmaker.com</td>\n      <td>twillsupport@maersk.com</td>\n      <td>None</td>\n      <td>None</td>\n      <td>True</td>\n      <td>None</td>\n      <td>2</td>\n      <td>2020-01-14 15:58:27</td>\n      <td>None</td>\n      <td>None</td>\n      <td>None</td>\n      <td>&lt;html xmlns:v=\"urn:schemas-microsoft-com:vml\" ...</td>\n      <td>None</td>\n    </tr>\n  </tbody>\n</table>\n</div>"
     },
     "metadata": {},
     "execution_count": 3
    }
   ],
   "source": [
    "data['html_body_quote_removed'] = data.apply(lambda row: tq.extract_from_html(row['html_body']) if row['html_body'] else None, axis=1)\n",
    "data['text_body_quote_removed'] = data.apply(lambda row:  utils.html_body_to_text_body(row['html_body_quote_removed']) if row['html_body_quote_removed'] else None, axis=1)\n",
    "\n",
    "\n",
    "data.head()"
   ]
  },
  {
   "cell_type": "code",
   "execution_count": null,
   "metadata": {},
   "outputs": [],
   "source": []
  },
  {
   "cell_type": "code",
   "execution_count": 6,
   "metadata": {},
   "outputs": [
    {
     "output_type": "error",
     "ename": "TypeError",
     "evalue": "a bytes-like object is required, not 'str'",
     "traceback": [
      "\u001b[0;31m---------------------------------------------------------------------------\u001b[0m",
      "\u001b[0;31mTypeError\u001b[0m                                 Traceback (most recent call last)",
      "\u001b[0;32m<ipython-input-6-ab7cb1f02ade>\u001b[0m in \u001b[0;36m<module>\u001b[0;34m\u001b[0m\n\u001b[0;32m----> 1\u001b[0;31m \u001b[0mdata\u001b[0m\u001b[0;34m[\u001b[0m\u001b[0;34m'has_signature'\u001b[0m\u001b[0;34m]\u001b[0m \u001b[0;34m=\u001b[0m \u001b[0mdata\u001b[0m\u001b[0;34m.\u001b[0m\u001b[0mapply\u001b[0m\u001b[0;34m(\u001b[0m\u001b[0;32mlambda\u001b[0m \u001b[0mrow\u001b[0m\u001b[0;34m:\u001b[0m \u001b[0mhelpers\u001b[0m\u001b[0;34m.\u001b[0m\u001b[0mhas_signature\u001b[0m\u001b[0;34m(\u001b[0m\u001b[0mrow\u001b[0m\u001b[0;34m[\u001b[0m\u001b[0;34m'text_body_quote_removed'\u001b[0m\u001b[0;34m]\u001b[0m\u001b[0;34m,\u001b[0m \u001b[0mrow\u001b[0m\u001b[0;34m[\u001b[0m\u001b[0;34m'validated_from_address'\u001b[0m\u001b[0;34m]\u001b[0m\u001b[0;34m)\u001b[0m \u001b[0;32mif\u001b[0m \u001b[0mrow\u001b[0m\u001b[0;34m[\u001b[0m\u001b[0;34m'text_body_quote_removed'\u001b[0m\u001b[0;34m]\u001b[0m \u001b[0;32melse\u001b[0m \u001b[0;34m'Empty'\u001b[0m\u001b[0;34m,\u001b[0m \u001b[0maxis\u001b[0m\u001b[0;34m=\u001b[0m\u001b[0;36m1\u001b[0m\u001b[0;34m)\u001b[0m\u001b[0;34m\u001b[0m\u001b[0;34m\u001b[0m\u001b[0m\n\u001b[0m",
      "\u001b[0;32m~/opt/anaconda3/envs/talon/lib/python3.8/site-packages/pandas/core/frame.py\u001b[0m in \u001b[0;36mapply\u001b[0;34m(self, func, axis, raw, result_type, args, **kwds)\u001b[0m\n\u001b[1;32m   7546\u001b[0m             \u001b[0mkwds\u001b[0m\u001b[0;34m=\u001b[0m\u001b[0mkwds\u001b[0m\u001b[0;34m,\u001b[0m\u001b[0;34m\u001b[0m\u001b[0;34m\u001b[0m\u001b[0m\n\u001b[1;32m   7547\u001b[0m         )\n\u001b[0;32m-> 7548\u001b[0;31m         \u001b[0;32mreturn\u001b[0m \u001b[0mop\u001b[0m\u001b[0;34m.\u001b[0m\u001b[0mget_result\u001b[0m\u001b[0;34m(\u001b[0m\u001b[0;34m)\u001b[0m\u001b[0;34m\u001b[0m\u001b[0;34m\u001b[0m\u001b[0m\n\u001b[0m\u001b[1;32m   7549\u001b[0m \u001b[0;34m\u001b[0m\u001b[0m\n\u001b[1;32m   7550\u001b[0m     \u001b[0;32mdef\u001b[0m \u001b[0mapplymap\u001b[0m\u001b[0;34m(\u001b[0m\u001b[0mself\u001b[0m\u001b[0;34m,\u001b[0m \u001b[0mfunc\u001b[0m\u001b[0;34m)\u001b[0m \u001b[0;34m->\u001b[0m \u001b[0;34m\"DataFrame\"\u001b[0m\u001b[0;34m:\u001b[0m\u001b[0;34m\u001b[0m\u001b[0;34m\u001b[0m\u001b[0m\n",
      "\u001b[0;32m~/opt/anaconda3/envs/talon/lib/python3.8/site-packages/pandas/core/apply.py\u001b[0m in \u001b[0;36mget_result\u001b[0;34m(self)\u001b[0m\n\u001b[1;32m    178\u001b[0m             \u001b[0;32mreturn\u001b[0m \u001b[0mself\u001b[0m\u001b[0;34m.\u001b[0m\u001b[0mapply_raw\u001b[0m\u001b[0;34m(\u001b[0m\u001b[0;34m)\u001b[0m\u001b[0;34m\u001b[0m\u001b[0;34m\u001b[0m\u001b[0m\n\u001b[1;32m    179\u001b[0m \u001b[0;34m\u001b[0m\u001b[0m\n\u001b[0;32m--> 180\u001b[0;31m         \u001b[0;32mreturn\u001b[0m \u001b[0mself\u001b[0m\u001b[0;34m.\u001b[0m\u001b[0mapply_standard\u001b[0m\u001b[0;34m(\u001b[0m\u001b[0;34m)\u001b[0m\u001b[0;34m\u001b[0m\u001b[0;34m\u001b[0m\u001b[0m\n\u001b[0m\u001b[1;32m    181\u001b[0m \u001b[0;34m\u001b[0m\u001b[0m\n\u001b[1;32m    182\u001b[0m     \u001b[0;32mdef\u001b[0m \u001b[0mapply_empty_result\u001b[0m\u001b[0;34m(\u001b[0m\u001b[0mself\u001b[0m\u001b[0;34m)\u001b[0m\u001b[0;34m:\u001b[0m\u001b[0;34m\u001b[0m\u001b[0;34m\u001b[0m\u001b[0m\n",
      "\u001b[0;32m~/opt/anaconda3/envs/talon/lib/python3.8/site-packages/pandas/core/apply.py\u001b[0m in \u001b[0;36mapply_standard\u001b[0;34m(self)\u001b[0m\n\u001b[1;32m    269\u001b[0m \u001b[0;34m\u001b[0m\u001b[0m\n\u001b[1;32m    270\u001b[0m     \u001b[0;32mdef\u001b[0m \u001b[0mapply_standard\u001b[0m\u001b[0;34m(\u001b[0m\u001b[0mself\u001b[0m\u001b[0;34m)\u001b[0m\u001b[0;34m:\u001b[0m\u001b[0;34m\u001b[0m\u001b[0;34m\u001b[0m\u001b[0m\n\u001b[0;32m--> 271\u001b[0;31m         \u001b[0mresults\u001b[0m\u001b[0;34m,\u001b[0m \u001b[0mres_index\u001b[0m \u001b[0;34m=\u001b[0m \u001b[0mself\u001b[0m\u001b[0;34m.\u001b[0m\u001b[0mapply_series_generator\u001b[0m\u001b[0;34m(\u001b[0m\u001b[0;34m)\u001b[0m\u001b[0;34m\u001b[0m\u001b[0;34m\u001b[0m\u001b[0m\n\u001b[0m\u001b[1;32m    272\u001b[0m \u001b[0;34m\u001b[0m\u001b[0m\n\u001b[1;32m    273\u001b[0m         \u001b[0;31m# wrap results\u001b[0m\u001b[0;34m\u001b[0m\u001b[0;34m\u001b[0m\u001b[0;34m\u001b[0m\u001b[0m\n",
      "\u001b[0;32m~/opt/anaconda3/envs/talon/lib/python3.8/site-packages/pandas/core/apply.py\u001b[0m in \u001b[0;36mapply_series_generator\u001b[0;34m(self)\u001b[0m\n\u001b[1;32m    298\u001b[0m                 \u001b[0;32mfor\u001b[0m \u001b[0mi\u001b[0m\u001b[0;34m,\u001b[0m \u001b[0mv\u001b[0m \u001b[0;32min\u001b[0m \u001b[0menumerate\u001b[0m\u001b[0;34m(\u001b[0m\u001b[0mseries_gen\u001b[0m\u001b[0;34m)\u001b[0m\u001b[0;34m:\u001b[0m\u001b[0;34m\u001b[0m\u001b[0;34m\u001b[0m\u001b[0m\n\u001b[1;32m    299\u001b[0m                     \u001b[0;31m# ignore SettingWithCopy here in case the user mutates\u001b[0m\u001b[0;34m\u001b[0m\u001b[0;34m\u001b[0m\u001b[0;34m\u001b[0m\u001b[0m\n\u001b[0;32m--> 300\u001b[0;31m                     \u001b[0mresults\u001b[0m\u001b[0;34m[\u001b[0m\u001b[0mi\u001b[0m\u001b[0;34m]\u001b[0m \u001b[0;34m=\u001b[0m \u001b[0mself\u001b[0m\u001b[0;34m.\u001b[0m\u001b[0mf\u001b[0m\u001b[0;34m(\u001b[0m\u001b[0mv\u001b[0m\u001b[0;34m)\u001b[0m\u001b[0;34m\u001b[0m\u001b[0;34m\u001b[0m\u001b[0m\n\u001b[0m\u001b[1;32m    301\u001b[0m                     \u001b[0;32mif\u001b[0m \u001b[0misinstance\u001b[0m\u001b[0;34m(\u001b[0m\u001b[0mresults\u001b[0m\u001b[0;34m[\u001b[0m\u001b[0mi\u001b[0m\u001b[0;34m]\u001b[0m\u001b[0;34m,\u001b[0m \u001b[0mABCSeries\u001b[0m\u001b[0;34m)\u001b[0m\u001b[0;34m:\u001b[0m\u001b[0;34m\u001b[0m\u001b[0;34m\u001b[0m\u001b[0m\n\u001b[1;32m    302\u001b[0m                         \u001b[0;31m# If we have a view on v, we need to make a copy because\u001b[0m\u001b[0;34m\u001b[0m\u001b[0;34m\u001b[0m\u001b[0;34m\u001b[0m\u001b[0m\n",
      "\u001b[0;32m<ipython-input-6-ab7cb1f02ade>\u001b[0m in \u001b[0;36m<lambda>\u001b[0;34m(row)\u001b[0m\n\u001b[0;32m----> 1\u001b[0;31m \u001b[0mdata\u001b[0m\u001b[0;34m[\u001b[0m\u001b[0;34m'has_signature'\u001b[0m\u001b[0;34m]\u001b[0m \u001b[0;34m=\u001b[0m \u001b[0mdata\u001b[0m\u001b[0;34m.\u001b[0m\u001b[0mapply\u001b[0m\u001b[0;34m(\u001b[0m\u001b[0;32mlambda\u001b[0m \u001b[0mrow\u001b[0m\u001b[0;34m:\u001b[0m \u001b[0mhelpers\u001b[0m\u001b[0;34m.\u001b[0m\u001b[0mhas_signature\u001b[0m\u001b[0;34m(\u001b[0m\u001b[0mrow\u001b[0m\u001b[0;34m[\u001b[0m\u001b[0;34m'text_body_quote_removed'\u001b[0m\u001b[0;34m]\u001b[0m\u001b[0;34m,\u001b[0m \u001b[0mrow\u001b[0m\u001b[0;34m[\u001b[0m\u001b[0;34m'validated_from_address'\u001b[0m\u001b[0;34m]\u001b[0m\u001b[0;34m)\u001b[0m \u001b[0;32mif\u001b[0m \u001b[0mrow\u001b[0m\u001b[0;34m[\u001b[0m\u001b[0;34m'text_body_quote_removed'\u001b[0m\u001b[0;34m]\u001b[0m \u001b[0;32melse\u001b[0m \u001b[0;34m'Empty'\u001b[0m\u001b[0;34m,\u001b[0m \u001b[0maxis\u001b[0m\u001b[0;34m=\u001b[0m\u001b[0;36m1\u001b[0m\u001b[0;34m)\u001b[0m\u001b[0;34m\u001b[0m\u001b[0;34m\u001b[0m\u001b[0m\n\u001b[0m",
      "\u001b[0;32m~/repos/talon/talon/signature/learning/helpers.py\u001b[0m in \u001b[0;36mhas_signature\u001b[0;34m(body, sender)\u001b[0m\n\u001b[1;32m    225\u001b[0m     \u001b[0;34m'''Checks if the body has signature. Returns True or False.'''\u001b[0m\u001b[0;34m\u001b[0m\u001b[0;34m\u001b[0m\u001b[0m\n\u001b[1;32m    226\u001b[0m     \u001b[0;31m# split signature long lines e.g. Tel: +34 123 456 789 | Fax: +34 123 456 789\u001b[0m\u001b[0;34m\u001b[0m\u001b[0;34m\u001b[0m\u001b[0;34m\u001b[0m\u001b[0m\n\u001b[0;32m--> 227\u001b[0;31m     \u001b[0mnon_empty\u001b[0m \u001b[0;34m=\u001b[0m \u001b[0mflatten_list\u001b[0m\u001b[0;34m(\u001b[0m\u001b[0;34m[\u001b[0m\u001b[0mline\u001b[0m\u001b[0;34m.\u001b[0m\u001b[0msplit\u001b[0m\u001b[0;34m(\u001b[0m\u001b[0;34m' | '\u001b[0m\u001b[0;34m)\u001b[0m \u001b[0;32mfor\u001b[0m \u001b[0mline\u001b[0m \u001b[0;32min\u001b[0m \u001b[0mbody\u001b[0m\u001b[0;34m.\u001b[0m\u001b[0msplitlines\u001b[0m\u001b[0;34m(\u001b[0m\u001b[0;34m)\u001b[0m \u001b[0;32mif\u001b[0m \u001b[0mline\u001b[0m\u001b[0;34m.\u001b[0m\u001b[0mstrip\u001b[0m\u001b[0;34m(\u001b[0m\u001b[0;34m)\u001b[0m\u001b[0;34m]\u001b[0m\u001b[0;34m)\u001b[0m\u001b[0;34m\u001b[0m\u001b[0;34m\u001b[0m\u001b[0m\n\u001b[0m\u001b[1;32m    228\u001b[0m     \"\"\"\n\u001b[1;32m    229\u001b[0m     \u001b[0mRemoving\u001b[0m \u001b[0mlong\u001b[0m \u001b[0mlines\u001b[0m \u001b[0;32mfrom\u001b[0m \u001b[0memails\u001b[0m \u001b[0mbefore\u001b[0m \u001b[0mlooping\u001b[0m \u001b[0mthrough\u001b[0m \u001b[0mcandidates\u001b[0m \u001b[0;32mas\u001b[0m \u001b[0msometimes\u001b[0m \u001b[0mwe\u001b[0m \u001b[0mhave\u001b[0m\u001b[0;34m:\u001b[0m\u001b[0;34m\u001b[0m\u001b[0;34m\u001b[0m\u001b[0m\n",
      "\u001b[0;32m~/repos/talon/talon/signature/learning/helpers.py\u001b[0m in \u001b[0;36m<listcomp>\u001b[0;34m(.0)\u001b[0m\n\u001b[1;32m    225\u001b[0m     \u001b[0;34m'''Checks if the body has signature. Returns True or False.'''\u001b[0m\u001b[0;34m\u001b[0m\u001b[0;34m\u001b[0m\u001b[0m\n\u001b[1;32m    226\u001b[0m     \u001b[0;31m# split signature long lines e.g. Tel: +34 123 456 789 | Fax: +34 123 456 789\u001b[0m\u001b[0;34m\u001b[0m\u001b[0;34m\u001b[0m\u001b[0;34m\u001b[0m\u001b[0m\n\u001b[0;32m--> 227\u001b[0;31m     \u001b[0mnon_empty\u001b[0m \u001b[0;34m=\u001b[0m \u001b[0mflatten_list\u001b[0m\u001b[0;34m(\u001b[0m\u001b[0;34m[\u001b[0m\u001b[0mline\u001b[0m\u001b[0;34m.\u001b[0m\u001b[0msplit\u001b[0m\u001b[0;34m(\u001b[0m\u001b[0;34m' | '\u001b[0m\u001b[0;34m)\u001b[0m \u001b[0;32mfor\u001b[0m \u001b[0mline\u001b[0m \u001b[0;32min\u001b[0m \u001b[0mbody\u001b[0m\u001b[0;34m.\u001b[0m\u001b[0msplitlines\u001b[0m\u001b[0;34m(\u001b[0m\u001b[0;34m)\u001b[0m \u001b[0;32mif\u001b[0m \u001b[0mline\u001b[0m\u001b[0;34m.\u001b[0m\u001b[0mstrip\u001b[0m\u001b[0;34m(\u001b[0m\u001b[0;34m)\u001b[0m\u001b[0;34m]\u001b[0m\u001b[0;34m)\u001b[0m\u001b[0;34m\u001b[0m\u001b[0;34m\u001b[0m\u001b[0m\n\u001b[0m\u001b[1;32m    228\u001b[0m     \"\"\"\n\u001b[1;32m    229\u001b[0m     \u001b[0mRemoving\u001b[0m \u001b[0mlong\u001b[0m \u001b[0mlines\u001b[0m \u001b[0;32mfrom\u001b[0m \u001b[0memails\u001b[0m \u001b[0mbefore\u001b[0m \u001b[0mlooping\u001b[0m \u001b[0mthrough\u001b[0m \u001b[0mcandidates\u001b[0m \u001b[0;32mas\u001b[0m \u001b[0msometimes\u001b[0m \u001b[0mwe\u001b[0m \u001b[0mhave\u001b[0m\u001b[0;34m:\u001b[0m\u001b[0;34m\u001b[0m\u001b[0;34m\u001b[0m\u001b[0m\n",
      "\u001b[0;31mTypeError\u001b[0m: a bytes-like object is required, not 'str'"
     ]
    }
   ],
   "source": [
    "# TODO FIX ME -> html_body to text_body seems not to work properly.......\n",
    "data['has_signature'] = data.apply(lambda row: helpers.has_signature(row['text_body_quote_removed'], row['validated_from_address']) if row['text_body_quote_removed'] else 'Empty', axis=1)\n"
   ]
  },
  {
   "cell_type": "code",
   "execution_count": null,
   "metadata": {},
   "outputs": [],
   "source": [
    "data['has_signature'].value_counts(dropna=False)"
   ]
  },
  {
   "cell_type": "code",
   "execution_count": null,
   "metadata": {},
   "outputs": [],
   "source": [
    "no_signature = data[data['has_signature'].isnull()].reset_index()\n",
    "\n",
    "no_signature"
   ]
  },
  {
   "source": [
    "## Evaluating the `has_signature` function"
   ],
   "cell_type": "markdown",
   "metadata": {}
  },
  {
   "cell_type": "code",
   "execution_count": 17,
   "metadata": {},
   "outputs": [
    {
     "output_type": "stream",
     "name": "stdout",
     "text": [
      "Email:  antoniocabreraplastics@gmail.com\nSi esta bien.\n\nEl jue., 17 de septiembre de 2020 4:41 p. m., twillsupport@maersk.com <\ntwillsupport@maersk.com> escribió:\n\n\n\n"
     ]
    },
    {
     "output_type": "display_data",
     "data": {
      "text/plain": "<IPython.core.display.HTML object>",
      "text/html": "<html><head></head><body><div dir=\"auto\">Si esta bien.&#160;</div><br></body></html>"
     },
     "metadata": {}
    }
   ],
   "source": [
    "error_index = 22\n",
    "print('Email: ', no_signature['validated_from_address'][error_index])\n",
    "print(no_signature['validated_text_body'][error_index])\n",
    "print()\n",
    "print()\n",
    "print()\n",
    "display(HTML(no_signature['validated_html_body'][error_index]))\n"
   ]
  },
  {
   "cell_type": "code",
   "execution_count": 22,
   "metadata": {},
   "outputs": [],
   "source": [
    "SIGNATURE_MAX_LINES = 16\n",
    "\n",
    "def has_signature2(body, sender):\n",
    "    '''Checks if the body has signature. Returns True or False.'''\n",
    "    # split signature long lines e.g. Tel: +34 123 456 789 | Fax: +34 123 456 789\n",
    "    non_empty = helpers.flatten_list([line.split(' | ') for line in body.splitlines() if line.strip()])\n",
    "    \"\"\"\n",
    "    Removing long lines from emails before looping through candidates as sometimes we have:\n",
    "    >>> Jean Phelippe\n",
    "    >>> ABC Logistics\n",
    "    >>> Germany\n",
    "    >>> Wir arbeiten ausschließlich auf Grundlage der Allgemeinen Deutschen Spediteurbedingungen, ADSp2017.\n",
    "    >>> This e-mail and any attachments are confidential and may also be privileged. If you are not the named recipient, please notify         the sender immediately and do not disclose the contents to another person[...]\n",
    "    \"\"\"\n",
    "    not_long = [line for line in non_empty if len(line) <= 60]\n",
    "    candidates = not_long[-SIGNATURE_MAX_LINES:]\n",
    "    upvotes = 0\n",
    "    for line in candidates:\n",
    "        if helpers.contains_sender_names(sender)(line):\n",
    "            print('Contain sender: ')\n",
    "            print(line)\n",
    "            return True\n",
    "        elif (helpers.binary_regex_search(helpers.RE_RELAX_PHONE)(line) +\n",
    "              helpers.binary_regex_search(helpers.RE_EMAIL)(line) +\n",
    "              helpers.binary_regex_search(helpers.RE_URL)(line) == 1):\n",
    "              print('Contain RELAX_PHONE, EMAIL OR URL: ')\n",
    "              print(line)\n",
    "              upvotes += 1\n",
    "        elif (helpers.binary_regex_search(helpers.RE_SIGNATURE_WORDS)(line) == 1):\n",
    "            print('Contain RE_SIGNATURE_WORDS: ')\n",
    "            print(line)\n",
    "            upvotes += 1\n",
    "        else:\n",
    "            print('Nothing found')\n",
    "            print(line)\n",
    "    if upvotes > 1:\n",
    "        return True"
   ]
  },
  {
   "cell_type": "code",
   "execution_count": 23,
   "metadata": {},
   "outputs": [
    {
     "output_type": "stream",
     "name": "stdout",
     "text": [
      "Email:  hxop05@h-star.cn\nBest?Regards!?\nReiko Huang ??????T：0592-2633732F：0592-2633708Email：hxop05@h-star.cn\nXiamen?Hongxing?Logistcs?Co.,Ltd\n厦门鸿星物流有限公司\nADD:5F,5th?Floor,Liansheng?Building,NO.28?Huli?Avenue,Xiamen,Fujian,China\n厦门市湖里区湖里大道联盛大厦东5楼K-L（签单资料/正本/发票于航运中心交接外勤小陈T:13400666117,如需寄件直接寄邮箱地址即可）\n----------ANALYSIS----------\nContain RE_SIGNATURE_WORDS: \nBest?Regards!?\nNothing found\nXiamen?Hongxing?Logistcs?Co.,Ltd\nNothing found\n厦门鸿星物流有限公司\n"
     ]
    }
   ],
   "source": [
    "error_index = 21\n",
    "\n",
    "print('Email: ', no_signature['validated_from_address'][error_index])\n",
    "print(no_signature['validated_text_body'][error_index])\n",
    "print('----------ANALYSIS----------')\n",
    "has_signature2(no_signature['validated_text_body'][error_index], no_signature['validated_from_address'][error_index])"
   ]
  },
  {
   "cell_type": "code",
   "execution_count": 111,
   "metadata": {},
   "outputs": [
    {
     "output_type": "execute_result",
     "data": {
      "text/plain": [
       "67"
      ]
     },
     "metadata": {},
     "execution_count": 111
    }
   ],
   "source": [
    "len('Plot No. 64, Sector - 11, CBD Belapur, Navi Mumbai – 400614, India ')"
   ]
  },
  {
   "cell_type": "code",
   "execution_count": 30,
   "metadata": {},
   "outputs": [
    {
     "output_type": "stream",
     "name": "stdout",
     "text": [
      "phuongtth@phaleminerals.com.vn\n\n"
     ]
    },
    {
     "output_type": "execute_result",
     "data": {
      "text/plain": [
       "['Dear Ms Nhã,',\n",
       " 'B/L thêm giúp em vào phần mổ tả hàng hóa:',\n",
       " '-          NOT FOR MEDICINAL USE ',\n",
       " '-          HS CODE: 38249990',\n",
       " 'Các nội dung còn lại ok rồi ạ.',\n",
       " '         ********',\n",
       " 'Thank and Best regard!                                              ',\n",
       " 'HA PHUONG TRAN',\n",
       " 'Imp – Exp Department',\n",
       " 'Mobile   : +84 936 093 337',\n",
       " 'Skype    : haphuong.mars3',\n",
       " 'Website :   <http://www.phaleminerals.com.vn/> www.phaleminerals.com.vn',\n",
       " 'Address :  2th Floor, Tower A, Rivera Park , 69  Vu Trong Phung Str.,  Thanh Xuan Dist., Hanoi, Vietnam']"
      ]
     },
     "metadata": {},
     "execution_count": 30
    }
   ],
   "source": [
    "#display(HTML(no_signature['html_body'][2]))\n",
    "error_index = 2\n",
    "#helpers.has_signature(no_signature['validated_text_body'][error_index], no_signature['validated_from_address'][error_index])\n",
    "print(no_signature['validated_from_address'][error_index])\n",
    "print()\n",
    "[line for line in no_signature['validated_text_body'][error_index].splitlines() if line.strip()]"
   ]
  },
  {
   "cell_type": "code",
   "execution_count": 67,
   "metadata": {},
   "outputs": [
    {
     "output_type": "execute_result",
     "data": {
      "text/plain": [
       "<email.message.Message at 0x198233880>"
      ]
     },
     "metadata": {},
     "execution_count": 67
    }
   ],
   "source": [
    "import email\n",
    "\n",
    "email.message_from_string(html_example)"
   ]
  },
  {
   "cell_type": "code",
   "execution_count": 11,
   "metadata": {},
   "outputs": [
    {
     "output_type": "execute_result",
     "data": {
      "text/plain": [
       "'Hi Ms Nha,\\n\\n \\n\\nSorry that customer have cancelled below booking , thank you.\\n\\n \\n\\nBest Regards\\n\\nJudy'"
      ]
     },
     "metadata": {},
     "execution_count": 11
    }
   ],
   "source": []
  },
  {
   "cell_type": "code",
   "execution_count": null,
   "metadata": {},
   "outputs": [],
   "source": []
  }
 ]
}